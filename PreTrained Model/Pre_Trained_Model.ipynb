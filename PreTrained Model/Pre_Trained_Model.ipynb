{
 "cells": [
  {
   "cell_type": "markdown",
   "metadata": {},
   "source": [
    "## ***Importing Modules***"
   ]
  },
  {
   "cell_type": "code",
   "execution_count": 52,
   "metadata": {
    "id": "8DHmK6ibf3aB"
   },
   "outputs": [],
   "source": [
    "# Importing the necessary module\n",
    "import tensorflow\n",
    "from tensorflow import keras\n",
    "\n",
    "from tensorflow.keras.applications import resnet50\n",
    "from tensorflow.keras.applications.resnet50 import preprocess_input,decode_predictions\n",
    "\n",
    "from tensorflow.keras.applications import vgg16\n",
    "from tensorflow.keras.applications.vgg16 import preprocess_input,decode_predictions\n",
    "\n",
    "import cv2"
   ]
  },
  {
   "cell_type": "markdown",
   "metadata": {},
   "source": [
    "# ***ResNet***"
   ]
  },
  {
   "cell_type": "code",
   "execution_count": 53,
   "metadata": {
    "id": "NEBOvRzSgOrK"
   },
   "outputs": [],
   "source": [
    "# Creating the ResNet model\n",
    "resnet_model = resnet50.ResNet50(weights=\"imagenet\")"
   ]
  },
  {
   "cell_type": "markdown",
   "metadata": {
    "id": "k6A7IC-BkGyc"
   },
   "source": [
    "#### Prediction of Cat"
   ]
  },
  {
   "cell_type": "code",
   "execution_count": 54,
   "metadata": {
    "colab": {
     "base_uri": "https://localhost:8080/"
    },
    "id": "9wdKqSsUhgc6",
    "outputId": "ef46a3b4-4e73-4514-f1ca-72a30679de86"
   },
   "outputs": [
    {
     "name": "stdout",
     "output_type": "stream",
     "text": [
      "1/1 [==============================] - 1s 844ms/step\n",
      "Predicted: [('n02127052', 'lynx', 0.29414514), ('n02441942', 'weasel', 0.1550262), ('n02120079', 'Arctic_fox', 0.1328588)]\n"
     ]
    }
   ],
   "source": [
    "# Read the image\n",
    "img = cv2.imread(\"/content/cat.jpg\")\n",
    "\n",
    "# Resize the image to (224, 224)\n",
    "img = cv2.resize(img,(224,224))\n",
    "\n",
    "# Preprocess the input image\n",
    "img = preprocess_input(img)\n",
    "\n",
    "# Reshape the image to (1, 224, 224, 3)\n",
    "img = img.reshape((1,224,224,3))\n",
    "\n",
    "# Predict the image using the resnet_model\n",
    "preds = resnet_model.predict(img)\n",
    "\n",
    "# Print the top 3 predictions\n",
    "print(\"Predicted:\",decode_predictions(preds,top=3)[0])"
   ]
  },
  {
   "cell_type": "markdown",
   "metadata": {
    "id": "iEdppUwRkTCb"
   },
   "source": [
    "#### Prediction of Dog"
   ]
  },
  {
   "cell_type": "code",
   "execution_count": 55,
   "metadata": {
    "colab": {
     "base_uri": "https://localhost:8080/"
    },
    "id": "k_4ihYFvjanI",
    "outputId": "87d794c4-207c-4775-be56-eb20af9be803"
   },
   "outputs": [
    {
     "name": "stdout",
     "output_type": "stream",
     "text": [
      "1/1 [==============================] - 0s 26ms/step\n",
      "Predicted: [('n02093647', 'Bedlington_terrier', 0.5343566), ('n02113799', 'standard_poodle', 0.15473516), ('n02104029', 'kuvasz', 0.09648153)]\n"
     ]
    }
   ],
   "source": [
    "# Read the image\n",
    "img = cv2.imread(\"/content/dog.jpg\")\n",
    "\n",
    "# Resize the image to (224, 224)\n",
    "img = cv2.resize(img,(224,224))\n",
    "\n",
    "# Preprocess the input image\n",
    "img = preprocess_input(img)\n",
    "\n",
    "# Reshape the image to (1, 224, 224, 3)\n",
    "img = img.reshape((1,224,224,3))\n",
    "\n",
    "# Predict the image using the resnet_model\n",
    "preds = resnet_model.predict(img)\n",
    "\n",
    "# Print the top 3 predictions\n",
    "print(\"Predicted:\",decode_predictions(preds,top=3)[0])"
   ]
  },
  {
   "cell_type": "markdown",
   "metadata": {
    "id": "9--9iIcBkYEk"
   },
   "source": [
    "#### Prediction of Chair"
   ]
  },
  {
   "cell_type": "code",
   "execution_count": 56,
   "metadata": {
    "colab": {
     "base_uri": "https://localhost:8080/"
    },
    "id": "to0Xu_8ZjbzM",
    "outputId": "c925cac4-b146-441f-b359-2b8ee57773c2"
   },
   "outputs": [
    {
     "name": "stdout",
     "output_type": "stream",
     "text": [
      "1/1 [==============================] - 0s 24ms/step\n",
      "Predicted: [('n03899768', 'patio', 0.2990077), ('n03141823', 'crutch', 0.22044462), ('n03201208', 'dining_table', 0.19681554)]\n"
     ]
    }
   ],
   "source": [
    "# Read the image\n",
    "img = cv2.imread(\"/content/chair.jfif\")\n",
    "\n",
    "# Resize the image to (224, 224)\n",
    "img = cv2.resize(img,(224,224))\n",
    "\n",
    "# Preprocess the input image\n",
    "img = preprocess_input(img)\n",
    "\n",
    "# Reshape the image to (1, 224, 224, 3)\n",
    "img = img.reshape((1,224,224,3))\n",
    "\n",
    "# Predict the image using the resnet_model\n",
    "preds = resnet_model.predict(img)\n",
    "\n",
    "# Print the top 3 predictions\n",
    "print(\"Predicted:\",decode_predictions(preds,top=3)[0])"
   ]
  },
  {
   "cell_type": "markdown",
   "metadata": {},
   "source": [
    "**preprocess_input** \n",
    "- The preprocess_input function is commonly used in deep learning frameworks like Keras or TensorFlow. It is a utility function that preprocesses input data before it is fed into a neural network model.\n",
    "- The specific implementation of preprocess_input can vary depending on the deep learning framework and the model being used. However, the general purpose of this function is to normalize and standardize the input data, so that it is in a format suitable for the model to process.\n",
    "- In the above example, preprocess_input is used to preprocess an image before feeding it into a pre-trained ResNet-50 model in Keras. The function preprocess_input normalizes the image's pixel values based on the preprocessing requirements of the ResNet-50 model."
   ]
  },
  {
   "cell_type": "markdown",
   "metadata": {},
   "source": [
    "**decode_predictions**\n",
    "- In the context of a pretrained model, the decode_predictions function is typically used to interpret the output of the model and convert it into a more meaningful form.\n",
    "- When a pretrained model makes predictions, the output is often in a numerical or encoded format that might not be immediately understandable to humans. The decode_predictions function is responsible for mapping these numerical outputs to their corresponding labels or meaningful representations.\n",
    "- For example, in the case of image classification, a pretrained model might output a vector of probabilities for each class. The decode_predictions function would take this vector and return the class label with the highest probability or a ranked list of the top predicted classes.\n",
    "- The purpose of using decode_predictions in a pretrained model is to provide a convenient and user-friendly way to interpret the model's predictions without having to manually analyze or manipulate the raw output."
   ]
  },
  {
   "cell_type": "markdown",
   "metadata": {},
   "source": [
    "# ***VGG16***"
   ]
  },
  {
   "cell_type": "code",
   "execution_count": 57,
   "metadata": {
    "id": "mu-_l5MolKFH"
   },
   "outputs": [],
   "source": [
    "# Creating the VGG model\n",
    "vgg16_model = vgg16.VGG16(weights=\"imagenet\")"
   ]
  },
  {
   "cell_type": "markdown",
   "metadata": {},
   "source": [
    "#### Prediction of Cat"
   ]
  },
  {
   "cell_type": "code",
   "execution_count": 58,
   "metadata": {
    "colab": {
     "base_uri": "https://localhost:8080/"
    },
    "id": "Pkg11rThlnQg",
    "outputId": "fc2722f0-3ebb-4dc3-adcb-984a942b13eb"
   },
   "outputs": [
    {
     "name": "stdout",
     "output_type": "stream",
     "text": [
      "1/1 [==============================] - 0s 417ms/step\n",
      "Predicted: [('n02120079', 'Arctic_fox', 0.40240526), ('n02441942', 'weasel', 0.40236652), ('n02124075', 'Egyptian_cat', 0.056957442)]\n"
     ]
    }
   ],
   "source": [
    "# Read the image\n",
    "img = cv2.imread(\"/content/cat.jpg\")\n",
    "\n",
    "# Resize the image to (224, 224)\n",
    "img = cv2.resize(img,(224,224))\n",
    "\n",
    "# Preprocess the input image\n",
    "img = preprocess_input(img)\n",
    "\n",
    "# Reshape the image to (1, 224, 224, 3)\n",
    "img = img.reshape((1,224,224,3))\n",
    "\n",
    "# Predict the image using the vgg16_model\n",
    "preds = vgg16_model.predict(img)\n",
    "\n",
    "# Print the top 3 predictions\n",
    "print(\"Predicted:\",decode_predictions(preds,top=3)[0])"
   ]
  },
  {
   "cell_type": "markdown",
   "metadata": {},
   "source": [
    "#### Prediction of Dog"
   ]
  },
  {
   "cell_type": "code",
   "execution_count": 59,
   "metadata": {
    "colab": {
     "base_uri": "https://localhost:8080/"
    },
    "id": "cSkqJFRKlNYU",
    "outputId": "0d3a6cb3-71c3-422c-d60b-db706271d300"
   },
   "outputs": [
    {
     "name": "stdout",
     "output_type": "stream",
     "text": [
      "1/1 [==============================] - 0s 23ms/step\n",
      "Predicted: [('n02104029', 'kuvasz', 0.6305358), ('n02100735', 'English_setter', 0.13712491), ('n02105641', 'Old_English_sheepdog', 0.07335946)]\n"
     ]
    }
   ],
   "source": [
    "# Read the image\n",
    "img = cv2.imread(\"/content/dog.jpg\")\n",
    "\n",
    "# Resize the image to (224, 224)\n",
    "img = cv2.resize(img,(224,224))\n",
    "\n",
    "# Preprocess the input image\n",
    "img = preprocess_input(img)\n",
    "\n",
    "# Reshape the image to (1, 224, 224, 3)\n",
    "img = img.reshape((1,224,224,3))\n",
    "\n",
    "# Predict the image using the vgg16_model\n",
    "preds = vgg16_model.predict(img)\n",
    "\n",
    "# Print the top 3 predictions\n",
    "print(\"Predicted:\",decode_predictions(preds,top=3)[0])"
   ]
  },
  {
   "cell_type": "markdown",
   "metadata": {},
   "source": [
    "#### Prediction of Chair"
   ]
  },
  {
   "cell_type": "code",
   "execution_count": 60,
   "metadata": {
    "colab": {
     "base_uri": "https://localhost:8080/"
    },
    "id": "ohKO3YR0lZLp",
    "outputId": "252ad05f-a9bc-4982-e22b-d445bfd32c4f"
   },
   "outputs": [
    {
     "name": "stdout",
     "output_type": "stream",
     "text": [
      "1/1 [==============================] - 0s 21ms/step\n",
      "Predicted: [('n04099969', 'rocking_chair', 0.5757074), ('n03141823', 'crutch', 0.1538185), ('n03899768', 'patio', 0.087335266)]\n"
     ]
    }
   ],
   "source": [
    "# Read the image\n",
    "img = cv2.imread(\"/content/chair.jfif\")\n",
    "\n",
    "# Resize the image to (224, 224)\n",
    "img = cv2.resize(img,(224,224))\n",
    "\n",
    "# Preprocess the input image\n",
    "img = preprocess_input(img)\n",
    "\n",
    "# Reshape the image to (1, 224, 224, 3)\n",
    "img = img.reshape((1,224,224,3))\n",
    "\n",
    "# Predict the image using the vgg16_model\n",
    "preds = vgg16_model.predict(img)\n",
    "\n",
    "# Print the top 3 predictions\n",
    "print(\"Predicted:\",decode_predictions(preds,top=3)[0])"
   ]
  }
 ],
 "metadata": {
  "accelerator": "GPU",
  "colab": {
   "gpuType": "T4",
   "provenance": []
  },
  "kernelspec": {
   "display_name": "Python 3",
   "language": "python",
   "name": "python3"
  },
  "language_info": {
   "codemirror_mode": {
    "name": "ipython",
    "version": 3
   },
   "file_extension": ".py",
   "mimetype": "text/x-python",
   "name": "python",
   "nbconvert_exporter": "python",
   "pygments_lexer": "ipython3",
   "version": "3.8.5"
  }
 },
 "nbformat": 4,
 "nbformat_minor": 1
}
