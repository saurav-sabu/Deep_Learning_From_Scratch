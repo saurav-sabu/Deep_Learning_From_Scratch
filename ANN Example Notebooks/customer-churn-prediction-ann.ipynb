{
 "cells": [
  {
   "cell_type": "code",
   "execution_count": 59,
   "metadata": {
    "_cell_guid": "b1076dfc-b9ad-4769-8c92-a6c4dae69d19",
    "_uuid": "8f2839f25d086af736a60e9eeb907d3b93b6e0e5",
    "execution": {
     "iopub.execute_input": "2023-07-05T14:58:51.585564Z",
     "iopub.status.busy": "2023-07-05T14:58:51.585182Z",
     "iopub.status.idle": "2023-07-05T14:58:51.598042Z",
     "shell.execute_reply": "2023-07-05T14:58:51.596835Z",
     "shell.execute_reply.started": "2023-07-05T14:58:51.585533Z"
    }
   },
   "outputs": [
    {
     "name": "stdout",
     "output_type": "stream",
     "text": [
      "/kaggle/input/credit-card-customer-churn-prediction/Churn_Modelling.csv\n"
     ]
    }
   ],
   "source": [
    "import os\n",
    "# Traverse the directory tree rooted at '/kaggle/input'\n",
    "# and print the absolute path of each file\n",
    "for dirname, _, filenames in os.walk('/kaggle/input'):\n",
    "    for filename in filenames:\n",
    "        print(os.path.join(dirname, filename))"
   ]
  },
  {
   "cell_type": "code",
   "execution_count": null,
   "metadata": {},
   "outputs": [],
   "source": [
    "import numpy as np \n",
    "import pandas as pd \n",
    "import matplotlib.pyplot as plt"
   ]
  },
  {
   "cell_type": "code",
   "execution_count": 60,
   "metadata": {
    "execution": {
     "iopub.execute_input": "2023-07-05T14:58:51.602546Z",
     "iopub.status.busy": "2023-07-05T14:58:51.602270Z",
     "iopub.status.idle": "2023-07-05T14:58:51.629360Z",
     "shell.execute_reply": "2023-07-05T14:58:51.628472Z",
     "shell.execute_reply.started": "2023-07-05T14:58:51.602503Z"
    }
   },
   "outputs": [],
   "source": [
    "# Read the CSV file into a DataFrame\n",
    "df = pd.read_csv(\"/kaggle/input/credit-card-customer-churn-prediction/Churn_Modelling.csv\")"
   ]
  },
  {
   "cell_type": "code",
   "execution_count": 61,
   "metadata": {
    "execution": {
     "iopub.execute_input": "2023-07-05T14:58:51.631724Z",
     "iopub.status.busy": "2023-07-05T14:58:51.631393Z",
     "iopub.status.idle": "2023-07-05T14:58:51.647975Z",
     "shell.execute_reply": "2023-07-05T14:58:51.646850Z",
     "shell.execute_reply.started": "2023-07-05T14:58:51.631693Z"
    }
   },
   "outputs": [
    {
     "data": {
      "text/html": [
       "<div>\n",
       "<style scoped>\n",
       "    .dataframe tbody tr th:only-of-type {\n",
       "        vertical-align: middle;\n",
       "    }\n",
       "\n",
       "    .dataframe tbody tr th {\n",
       "        vertical-align: top;\n",
       "    }\n",
       "\n",
       "    .dataframe thead th {\n",
       "        text-align: right;\n",
       "    }\n",
       "</style>\n",
       "<table border=\"1\" class=\"dataframe\">\n",
       "  <thead>\n",
       "    <tr style=\"text-align: right;\">\n",
       "      <th></th>\n",
       "      <th>RowNumber</th>\n",
       "      <th>CustomerId</th>\n",
       "      <th>Surname</th>\n",
       "      <th>CreditScore</th>\n",
       "      <th>Geography</th>\n",
       "      <th>Gender</th>\n",
       "      <th>Age</th>\n",
       "      <th>Tenure</th>\n",
       "      <th>Balance</th>\n",
       "      <th>NumOfProducts</th>\n",
       "      <th>HasCrCard</th>\n",
       "      <th>IsActiveMember</th>\n",
       "      <th>EstimatedSalary</th>\n",
       "      <th>Exited</th>\n",
       "    </tr>\n",
       "  </thead>\n",
       "  <tbody>\n",
       "    <tr>\n",
       "      <th>0</th>\n",
       "      <td>1</td>\n",
       "      <td>15634602</td>\n",
       "      <td>Hargrave</td>\n",
       "      <td>619</td>\n",
       "      <td>France</td>\n",
       "      <td>Female</td>\n",
       "      <td>42</td>\n",
       "      <td>2</td>\n",
       "      <td>0.00</td>\n",
       "      <td>1</td>\n",
       "      <td>1</td>\n",
       "      <td>1</td>\n",
       "      <td>101348.88</td>\n",
       "      <td>1</td>\n",
       "    </tr>\n",
       "    <tr>\n",
       "      <th>1</th>\n",
       "      <td>2</td>\n",
       "      <td>15647311</td>\n",
       "      <td>Hill</td>\n",
       "      <td>608</td>\n",
       "      <td>Spain</td>\n",
       "      <td>Female</td>\n",
       "      <td>41</td>\n",
       "      <td>1</td>\n",
       "      <td>83807.86</td>\n",
       "      <td>1</td>\n",
       "      <td>0</td>\n",
       "      <td>1</td>\n",
       "      <td>112542.58</td>\n",
       "      <td>0</td>\n",
       "    </tr>\n",
       "    <tr>\n",
       "      <th>2</th>\n",
       "      <td>3</td>\n",
       "      <td>15619304</td>\n",
       "      <td>Onio</td>\n",
       "      <td>502</td>\n",
       "      <td>France</td>\n",
       "      <td>Female</td>\n",
       "      <td>42</td>\n",
       "      <td>8</td>\n",
       "      <td>159660.80</td>\n",
       "      <td>3</td>\n",
       "      <td>1</td>\n",
       "      <td>0</td>\n",
       "      <td>113931.57</td>\n",
       "      <td>1</td>\n",
       "    </tr>\n",
       "    <tr>\n",
       "      <th>3</th>\n",
       "      <td>4</td>\n",
       "      <td>15701354</td>\n",
       "      <td>Boni</td>\n",
       "      <td>699</td>\n",
       "      <td>France</td>\n",
       "      <td>Female</td>\n",
       "      <td>39</td>\n",
       "      <td>1</td>\n",
       "      <td>0.00</td>\n",
       "      <td>2</td>\n",
       "      <td>0</td>\n",
       "      <td>0</td>\n",
       "      <td>93826.63</td>\n",
       "      <td>0</td>\n",
       "    </tr>\n",
       "    <tr>\n",
       "      <th>4</th>\n",
       "      <td>5</td>\n",
       "      <td>15737888</td>\n",
       "      <td>Mitchell</td>\n",
       "      <td>850</td>\n",
       "      <td>Spain</td>\n",
       "      <td>Female</td>\n",
       "      <td>43</td>\n",
       "      <td>2</td>\n",
       "      <td>125510.82</td>\n",
       "      <td>1</td>\n",
       "      <td>1</td>\n",
       "      <td>1</td>\n",
       "      <td>79084.10</td>\n",
       "      <td>0</td>\n",
       "    </tr>\n",
       "  </tbody>\n",
       "</table>\n",
       "</div>"
      ],
      "text/plain": [
       "   RowNumber  CustomerId   Surname  CreditScore Geography  Gender  Age  \\\n",
       "0          1    15634602  Hargrave          619    France  Female   42   \n",
       "1          2    15647311      Hill          608     Spain  Female   41   \n",
       "2          3    15619304      Onio          502    France  Female   42   \n",
       "3          4    15701354      Boni          699    France  Female   39   \n",
       "4          5    15737888  Mitchell          850     Spain  Female   43   \n",
       "\n",
       "   Tenure    Balance  NumOfProducts  HasCrCard  IsActiveMember  \\\n",
       "0       2       0.00              1          1               1   \n",
       "1       1   83807.86              1          0               1   \n",
       "2       8  159660.80              3          1               0   \n",
       "3       1       0.00              2          0               0   \n",
       "4       2  125510.82              1          1               1   \n",
       "\n",
       "   EstimatedSalary  Exited  \n",
       "0        101348.88       1  \n",
       "1        112542.58       0  \n",
       "2        113931.57       1  \n",
       "3         93826.63       0  \n",
       "4         79084.10       0  "
      ]
     },
     "execution_count": 61,
     "metadata": {},
     "output_type": "execute_result"
    }
   ],
   "source": [
    "# Display the first few rows of the dataframe\n",
    "df.head()"
   ]
  },
  {
   "cell_type": "code",
   "execution_count": 62,
   "metadata": {
    "execution": {
     "iopub.execute_input": "2023-07-05T14:58:51.651061Z",
     "iopub.status.busy": "2023-07-05T14:58:51.650045Z",
     "iopub.status.idle": "2023-07-05T14:58:51.658349Z",
     "shell.execute_reply": "2023-07-05T14:58:51.657286Z",
     "shell.execute_reply.started": "2023-07-05T14:58:51.651029Z"
    }
   },
   "outputs": [
    {
     "data": {
      "text/plain": [
       "(10000, 14)"
      ]
     },
     "execution_count": 62,
     "metadata": {},
     "output_type": "execute_result"
    }
   ],
   "source": [
    "# Print the shape of the dataframe\n",
    "df.shape"
   ]
  },
  {
   "cell_type": "code",
   "execution_count": 63,
   "metadata": {
    "execution": {
     "iopub.execute_input": "2023-07-05T14:58:51.660391Z",
     "iopub.status.busy": "2023-07-05T14:58:51.659922Z",
     "iopub.status.idle": "2023-07-05T14:58:51.682806Z",
     "shell.execute_reply": "2023-07-05T14:58:51.681798Z",
     "shell.execute_reply.started": "2023-07-05T14:58:51.660360Z"
    }
   },
   "outputs": [
    {
     "name": "stdout",
     "output_type": "stream",
     "text": [
      "<class 'pandas.core.frame.DataFrame'>\n",
      "RangeIndex: 10000 entries, 0 to 9999\n",
      "Data columns (total 14 columns):\n",
      " #   Column           Non-Null Count  Dtype  \n",
      "---  ------           --------------  -----  \n",
      " 0   RowNumber        10000 non-null  int64  \n",
      " 1   CustomerId       10000 non-null  int64  \n",
      " 2   Surname          10000 non-null  object \n",
      " 3   CreditScore      10000 non-null  int64  \n",
      " 4   Geography        10000 non-null  object \n",
      " 5   Gender           10000 non-null  object \n",
      " 6   Age              10000 non-null  int64  \n",
      " 7   Tenure           10000 non-null  int64  \n",
      " 8   Balance          10000 non-null  float64\n",
      " 9   NumOfProducts    10000 non-null  int64  \n",
      " 10  HasCrCard        10000 non-null  int64  \n",
      " 11  IsActiveMember   10000 non-null  int64  \n",
      " 12  EstimatedSalary  10000 non-null  float64\n",
      " 13  Exited           10000 non-null  int64  \n",
      "dtypes: float64(2), int64(9), object(3)\n",
      "memory usage: 1.1+ MB\n"
     ]
    }
   ],
   "source": [
    "# Display information about the DataFrame\n",
    "df.info()"
   ]
  },
  {
   "cell_type": "code",
   "execution_count": 64,
   "metadata": {
    "execution": {
     "iopub.execute_input": "2023-07-05T14:58:51.685485Z",
     "iopub.status.busy": "2023-07-05T14:58:51.685160Z",
     "iopub.status.idle": "2023-07-05T14:58:51.701485Z",
     "shell.execute_reply": "2023-07-05T14:58:51.700612Z",
     "shell.execute_reply.started": "2023-07-05T14:58:51.685455Z"
    }
   },
   "outputs": [
    {
     "data": {
      "text/plain": [
       "0"
      ]
     },
     "execution_count": 64,
     "metadata": {},
     "output_type": "execute_result"
    }
   ],
   "source": [
    "# Count the number of duplicated rows in the DataFrame\n",
    "df.duplicated().sum()"
   ]
  },
  {
   "cell_type": "code",
   "execution_count": 65,
   "metadata": {
    "execution": {
     "iopub.execute_input": "2023-07-05T14:58:51.702624Z",
     "iopub.status.busy": "2023-07-05T14:58:51.702382Z",
     "iopub.status.idle": "2023-07-05T14:58:51.710833Z",
     "shell.execute_reply": "2023-07-05T14:58:51.709808Z",
     "shell.execute_reply.started": "2023-07-05T14:58:51.702602Z"
    }
   },
   "outputs": [
    {
     "data": {
      "text/plain": [
       "0    7963\n",
       "1    2037\n",
       "Name: Exited, dtype: int64"
      ]
     },
     "execution_count": 65,
     "metadata": {},
     "output_type": "execute_result"
    }
   ],
   "source": [
    "# Count the occurrences of each value in the \"Exited\" column of the DataFrame\n",
    "df[\"Exited\"].value_counts()"
   ]
  },
  {
   "cell_type": "code",
   "execution_count": 66,
   "metadata": {
    "execution": {
     "iopub.execute_input": "2023-07-05T14:58:51.713093Z",
     "iopub.status.busy": "2023-07-05T14:58:51.712357Z",
     "iopub.status.idle": "2023-07-05T14:58:51.723282Z",
     "shell.execute_reply": "2023-07-05T14:58:51.722049Z",
     "shell.execute_reply.started": "2023-07-05T14:58:51.712937Z"
    }
   },
   "outputs": [
    {
     "data": {
      "text/plain": [
       "France     5014\n",
       "Germany    2509\n",
       "Spain      2477\n",
       "Name: Geography, dtype: int64"
      ]
     },
     "execution_count": 66,
     "metadata": {},
     "output_type": "execute_result"
    }
   ],
   "source": [
    "# Count the values in the \"Geography\" column of the DataFrame\n",
    "df[\"Geography\"].value_counts()"
   ]
  },
  {
   "cell_type": "code",
   "execution_count": 67,
   "metadata": {
    "execution": {
     "iopub.execute_input": "2023-07-05T14:58:51.726030Z",
     "iopub.status.busy": "2023-07-05T14:58:51.725440Z",
     "iopub.status.idle": "2023-07-05T14:58:51.734704Z",
     "shell.execute_reply": "2023-07-05T14:58:51.733584Z",
     "shell.execute_reply.started": "2023-07-05T14:58:51.725999Z"
    }
   },
   "outputs": [
    {
     "data": {
      "text/plain": [
       "Male      5457\n",
       "Female    4543\n",
       "Name: Gender, dtype: int64"
      ]
     },
     "execution_count": 67,
     "metadata": {},
     "output_type": "execute_result"
    }
   ],
   "source": [
    "# Count the occurrences of each value in the \"Gender\" column\n",
    "df[\"Gender\"].value_counts()"
   ]
  },
  {
   "cell_type": "code",
   "execution_count": 68,
   "metadata": {
    "execution": {
     "iopub.execute_input": "2023-07-05T14:58:51.738479Z",
     "iopub.status.busy": "2023-07-05T14:58:51.737853Z",
     "iopub.status.idle": "2023-07-05T14:58:51.744948Z",
     "shell.execute_reply": "2023-07-05T14:58:51.743701Z",
     "shell.execute_reply.started": "2023-07-05T14:58:51.738448Z"
    }
   },
   "outputs": [],
   "source": [
    "# Count the occurrences of each value in the \"Gender\" column\n",
    "df = df.iloc[:,3:]"
   ]
  },
  {
   "cell_type": "code",
   "execution_count": 69,
   "metadata": {
    "execution": {
     "iopub.execute_input": "2023-07-05T14:58:51.748385Z",
     "iopub.status.busy": "2023-07-05T14:58:51.747858Z",
     "iopub.status.idle": "2023-07-05T14:58:51.764273Z",
     "shell.execute_reply": "2023-07-05T14:58:51.763039Z",
     "shell.execute_reply.started": "2023-07-05T14:58:51.748293Z"
    }
   },
   "outputs": [
    {
     "data": {
      "text/html": [
       "<div>\n",
       "<style scoped>\n",
       "    .dataframe tbody tr th:only-of-type {\n",
       "        vertical-align: middle;\n",
       "    }\n",
       "\n",
       "    .dataframe tbody tr th {\n",
       "        vertical-align: top;\n",
       "    }\n",
       "\n",
       "    .dataframe thead th {\n",
       "        text-align: right;\n",
       "    }\n",
       "</style>\n",
       "<table border=\"1\" class=\"dataframe\">\n",
       "  <thead>\n",
       "    <tr style=\"text-align: right;\">\n",
       "      <th></th>\n",
       "      <th>CreditScore</th>\n",
       "      <th>Geography</th>\n",
       "      <th>Gender</th>\n",
       "      <th>Age</th>\n",
       "      <th>Tenure</th>\n",
       "      <th>Balance</th>\n",
       "      <th>NumOfProducts</th>\n",
       "      <th>HasCrCard</th>\n",
       "      <th>IsActiveMember</th>\n",
       "      <th>EstimatedSalary</th>\n",
       "      <th>Exited</th>\n",
       "    </tr>\n",
       "  </thead>\n",
       "  <tbody>\n",
       "    <tr>\n",
       "      <th>0</th>\n",
       "      <td>619</td>\n",
       "      <td>France</td>\n",
       "      <td>Female</td>\n",
       "      <td>42</td>\n",
       "      <td>2</td>\n",
       "      <td>0.00</td>\n",
       "      <td>1</td>\n",
       "      <td>1</td>\n",
       "      <td>1</td>\n",
       "      <td>101348.88</td>\n",
       "      <td>1</td>\n",
       "    </tr>\n",
       "    <tr>\n",
       "      <th>1</th>\n",
       "      <td>608</td>\n",
       "      <td>Spain</td>\n",
       "      <td>Female</td>\n",
       "      <td>41</td>\n",
       "      <td>1</td>\n",
       "      <td>83807.86</td>\n",
       "      <td>1</td>\n",
       "      <td>0</td>\n",
       "      <td>1</td>\n",
       "      <td>112542.58</td>\n",
       "      <td>0</td>\n",
       "    </tr>\n",
       "    <tr>\n",
       "      <th>2</th>\n",
       "      <td>502</td>\n",
       "      <td>France</td>\n",
       "      <td>Female</td>\n",
       "      <td>42</td>\n",
       "      <td>8</td>\n",
       "      <td>159660.80</td>\n",
       "      <td>3</td>\n",
       "      <td>1</td>\n",
       "      <td>0</td>\n",
       "      <td>113931.57</td>\n",
       "      <td>1</td>\n",
       "    </tr>\n",
       "    <tr>\n",
       "      <th>3</th>\n",
       "      <td>699</td>\n",
       "      <td>France</td>\n",
       "      <td>Female</td>\n",
       "      <td>39</td>\n",
       "      <td>1</td>\n",
       "      <td>0.00</td>\n",
       "      <td>2</td>\n",
       "      <td>0</td>\n",
       "      <td>0</td>\n",
       "      <td>93826.63</td>\n",
       "      <td>0</td>\n",
       "    </tr>\n",
       "    <tr>\n",
       "      <th>4</th>\n",
       "      <td>850</td>\n",
       "      <td>Spain</td>\n",
       "      <td>Female</td>\n",
       "      <td>43</td>\n",
       "      <td>2</td>\n",
       "      <td>125510.82</td>\n",
       "      <td>1</td>\n",
       "      <td>1</td>\n",
       "      <td>1</td>\n",
       "      <td>79084.10</td>\n",
       "      <td>0</td>\n",
       "    </tr>\n",
       "  </tbody>\n",
       "</table>\n",
       "</div>"
      ],
      "text/plain": [
       "   CreditScore Geography  Gender  Age  Tenure    Balance  NumOfProducts  \\\n",
       "0          619    France  Female   42       2       0.00              1   \n",
       "1          608     Spain  Female   41       1   83807.86              1   \n",
       "2          502    France  Female   42       8  159660.80              3   \n",
       "3          699    France  Female   39       1       0.00              2   \n",
       "4          850     Spain  Female   43       2  125510.82              1   \n",
       "\n",
       "   HasCrCard  IsActiveMember  EstimatedSalary  Exited  \n",
       "0          1               1        101348.88       1  \n",
       "1          0               1        112542.58       0  \n",
       "2          1               0        113931.57       1  \n",
       "3          0               0         93826.63       0  \n",
       "4          1               1         79084.10       0  "
      ]
     },
     "execution_count": 69,
     "metadata": {},
     "output_type": "execute_result"
    }
   ],
   "source": [
    "# Print the first few rows of the dataframe\n",
    "df.head()"
   ]
  },
  {
   "cell_type": "code",
   "execution_count": 70,
   "metadata": {
    "execution": {
     "iopub.execute_input": "2023-07-05T14:58:51.766375Z",
     "iopub.status.busy": "2023-07-05T14:58:51.765848Z",
     "iopub.status.idle": "2023-07-05T14:58:51.793401Z",
     "shell.execute_reply": "2023-07-05T14:58:51.792551Z",
     "shell.execute_reply.started": "2023-07-05T14:58:51.766343Z"
    }
   },
   "outputs": [
    {
     "data": {
      "text/html": [
       "<div>\n",
       "<style scoped>\n",
       "    .dataframe tbody tr th:only-of-type {\n",
       "        vertical-align: middle;\n",
       "    }\n",
       "\n",
       "    .dataframe tbody tr th {\n",
       "        vertical-align: top;\n",
       "    }\n",
       "\n",
       "    .dataframe thead th {\n",
       "        text-align: right;\n",
       "    }\n",
       "</style>\n",
       "<table border=\"1\" class=\"dataframe\">\n",
       "  <thead>\n",
       "    <tr style=\"text-align: right;\">\n",
       "      <th></th>\n",
       "      <th>CreditScore</th>\n",
       "      <th>Age</th>\n",
       "      <th>Tenure</th>\n",
       "      <th>Balance</th>\n",
       "      <th>NumOfProducts</th>\n",
       "      <th>HasCrCard</th>\n",
       "      <th>IsActiveMember</th>\n",
       "      <th>EstimatedSalary</th>\n",
       "      <th>Exited</th>\n",
       "      <th>Geography_Germany</th>\n",
       "      <th>Geography_Spain</th>\n",
       "      <th>Gender_Male</th>\n",
       "    </tr>\n",
       "  </thead>\n",
       "  <tbody>\n",
       "    <tr>\n",
       "      <th>0</th>\n",
       "      <td>619</td>\n",
       "      <td>42</td>\n",
       "      <td>2</td>\n",
       "      <td>0.00</td>\n",
       "      <td>1</td>\n",
       "      <td>1</td>\n",
       "      <td>1</td>\n",
       "      <td>101348.88</td>\n",
       "      <td>1</td>\n",
       "      <td>0</td>\n",
       "      <td>0</td>\n",
       "      <td>0</td>\n",
       "    </tr>\n",
       "    <tr>\n",
       "      <th>1</th>\n",
       "      <td>608</td>\n",
       "      <td>41</td>\n",
       "      <td>1</td>\n",
       "      <td>83807.86</td>\n",
       "      <td>1</td>\n",
       "      <td>0</td>\n",
       "      <td>1</td>\n",
       "      <td>112542.58</td>\n",
       "      <td>0</td>\n",
       "      <td>0</td>\n",
       "      <td>1</td>\n",
       "      <td>0</td>\n",
       "    </tr>\n",
       "    <tr>\n",
       "      <th>2</th>\n",
       "      <td>502</td>\n",
       "      <td>42</td>\n",
       "      <td>8</td>\n",
       "      <td>159660.80</td>\n",
       "      <td>3</td>\n",
       "      <td>1</td>\n",
       "      <td>0</td>\n",
       "      <td>113931.57</td>\n",
       "      <td>1</td>\n",
       "      <td>0</td>\n",
       "      <td>0</td>\n",
       "      <td>0</td>\n",
       "    </tr>\n",
       "    <tr>\n",
       "      <th>3</th>\n",
       "      <td>699</td>\n",
       "      <td>39</td>\n",
       "      <td>1</td>\n",
       "      <td>0.00</td>\n",
       "      <td>2</td>\n",
       "      <td>0</td>\n",
       "      <td>0</td>\n",
       "      <td>93826.63</td>\n",
       "      <td>0</td>\n",
       "      <td>0</td>\n",
       "      <td>0</td>\n",
       "      <td>0</td>\n",
       "    </tr>\n",
       "    <tr>\n",
       "      <th>4</th>\n",
       "      <td>850</td>\n",
       "      <td>43</td>\n",
       "      <td>2</td>\n",
       "      <td>125510.82</td>\n",
       "      <td>1</td>\n",
       "      <td>1</td>\n",
       "      <td>1</td>\n",
       "      <td>79084.10</td>\n",
       "      <td>0</td>\n",
       "      <td>0</td>\n",
       "      <td>1</td>\n",
       "      <td>0</td>\n",
       "    </tr>\n",
       "    <tr>\n",
       "      <th>...</th>\n",
       "      <td>...</td>\n",
       "      <td>...</td>\n",
       "      <td>...</td>\n",
       "      <td>...</td>\n",
       "      <td>...</td>\n",
       "      <td>...</td>\n",
       "      <td>...</td>\n",
       "      <td>...</td>\n",
       "      <td>...</td>\n",
       "      <td>...</td>\n",
       "      <td>...</td>\n",
       "      <td>...</td>\n",
       "    </tr>\n",
       "    <tr>\n",
       "      <th>9995</th>\n",
       "      <td>771</td>\n",
       "      <td>39</td>\n",
       "      <td>5</td>\n",
       "      <td>0.00</td>\n",
       "      <td>2</td>\n",
       "      <td>1</td>\n",
       "      <td>0</td>\n",
       "      <td>96270.64</td>\n",
       "      <td>0</td>\n",
       "      <td>0</td>\n",
       "      <td>0</td>\n",
       "      <td>1</td>\n",
       "    </tr>\n",
       "    <tr>\n",
       "      <th>9996</th>\n",
       "      <td>516</td>\n",
       "      <td>35</td>\n",
       "      <td>10</td>\n",
       "      <td>57369.61</td>\n",
       "      <td>1</td>\n",
       "      <td>1</td>\n",
       "      <td>1</td>\n",
       "      <td>101699.77</td>\n",
       "      <td>0</td>\n",
       "      <td>0</td>\n",
       "      <td>0</td>\n",
       "      <td>1</td>\n",
       "    </tr>\n",
       "    <tr>\n",
       "      <th>9997</th>\n",
       "      <td>709</td>\n",
       "      <td>36</td>\n",
       "      <td>7</td>\n",
       "      <td>0.00</td>\n",
       "      <td>1</td>\n",
       "      <td>0</td>\n",
       "      <td>1</td>\n",
       "      <td>42085.58</td>\n",
       "      <td>1</td>\n",
       "      <td>0</td>\n",
       "      <td>0</td>\n",
       "      <td>0</td>\n",
       "    </tr>\n",
       "    <tr>\n",
       "      <th>9998</th>\n",
       "      <td>772</td>\n",
       "      <td>42</td>\n",
       "      <td>3</td>\n",
       "      <td>75075.31</td>\n",
       "      <td>2</td>\n",
       "      <td>1</td>\n",
       "      <td>0</td>\n",
       "      <td>92888.52</td>\n",
       "      <td>1</td>\n",
       "      <td>1</td>\n",
       "      <td>0</td>\n",
       "      <td>1</td>\n",
       "    </tr>\n",
       "    <tr>\n",
       "      <th>9999</th>\n",
       "      <td>792</td>\n",
       "      <td>28</td>\n",
       "      <td>4</td>\n",
       "      <td>130142.79</td>\n",
       "      <td>1</td>\n",
       "      <td>1</td>\n",
       "      <td>0</td>\n",
       "      <td>38190.78</td>\n",
       "      <td>0</td>\n",
       "      <td>0</td>\n",
       "      <td>0</td>\n",
       "      <td>0</td>\n",
       "    </tr>\n",
       "  </tbody>\n",
       "</table>\n",
       "<p>10000 rows × 12 columns</p>\n",
       "</div>"
      ],
      "text/plain": [
       "      CreditScore  Age  Tenure    Balance  NumOfProducts  HasCrCard  \\\n",
       "0             619   42       2       0.00              1          1   \n",
       "1             608   41       1   83807.86              1          0   \n",
       "2             502   42       8  159660.80              3          1   \n",
       "3             699   39       1       0.00              2          0   \n",
       "4             850   43       2  125510.82              1          1   \n",
       "...           ...  ...     ...        ...            ...        ...   \n",
       "9995          771   39       5       0.00              2          1   \n",
       "9996          516   35      10   57369.61              1          1   \n",
       "9997          709   36       7       0.00              1          0   \n",
       "9998          772   42       3   75075.31              2          1   \n",
       "9999          792   28       4  130142.79              1          1   \n",
       "\n",
       "      IsActiveMember  EstimatedSalary  Exited  Geography_Germany  \\\n",
       "0                  1        101348.88       1                  0   \n",
       "1                  1        112542.58       0                  0   \n",
       "2                  0        113931.57       1                  0   \n",
       "3                  0         93826.63       0                  0   \n",
       "4                  1         79084.10       0                  0   \n",
       "...              ...              ...     ...                ...   \n",
       "9995               0         96270.64       0                  0   \n",
       "9996               1        101699.77       0                  0   \n",
       "9997               1         42085.58       1                  0   \n",
       "9998               0         92888.52       1                  1   \n",
       "9999               0         38190.78       0                  0   \n",
       "\n",
       "      Geography_Spain  Gender_Male  \n",
       "0                   0            0  \n",
       "1                   1            0  \n",
       "2                   0            0  \n",
       "3                   0            0  \n",
       "4                   1            0  \n",
       "...               ...          ...  \n",
       "9995                0            1  \n",
       "9996                0            1  \n",
       "9997                0            0  \n",
       "9998                0            1  \n",
       "9999                0            0  \n",
       "\n",
       "[10000 rows x 12 columns]"
      ]
     },
     "execution_count": 70,
     "metadata": {},
     "output_type": "execute_result"
    }
   ],
   "source": [
    "# Applying one-hot encoding to the 'Geography' and 'Gender' columns.\n",
    "pd.get_dummies(df,columns=[\"Geography\",\"Gender\"],drop_first=True)"
   ]
  },
  {
   "cell_type": "code",
   "execution_count": 71,
   "metadata": {
    "execution": {
     "iopub.execute_input": "2023-07-05T14:58:51.797598Z",
     "iopub.status.busy": "2023-07-05T14:58:51.797339Z",
     "iopub.status.idle": "2023-07-05T14:58:51.810003Z",
     "shell.execute_reply": "2023-07-05T14:58:51.808745Z",
     "shell.execute_reply.started": "2023-07-05T14:58:51.797576Z"
    }
   },
   "outputs": [],
   "source": [
    "# Assign one-hot encoded data to dataframe\n",
    "df = pd.get_dummies(df,columns=[\"Geography\",\"Gender\"],drop_first=True)"
   ]
  },
  {
   "cell_type": "code",
   "execution_count": 72,
   "metadata": {
    "execution": {
     "iopub.execute_input": "2023-07-05T14:58:51.811950Z",
     "iopub.status.busy": "2023-07-05T14:58:51.811350Z",
     "iopub.status.idle": "2023-07-05T14:58:51.826745Z",
     "shell.execute_reply": "2023-07-05T14:58:51.825852Z",
     "shell.execute_reply.started": "2023-07-05T14:58:51.811917Z"
    }
   },
   "outputs": [
    {
     "data": {
      "text/html": [
       "<div>\n",
       "<style scoped>\n",
       "    .dataframe tbody tr th:only-of-type {\n",
       "        vertical-align: middle;\n",
       "    }\n",
       "\n",
       "    .dataframe tbody tr th {\n",
       "        vertical-align: top;\n",
       "    }\n",
       "\n",
       "    .dataframe thead th {\n",
       "        text-align: right;\n",
       "    }\n",
       "</style>\n",
       "<table border=\"1\" class=\"dataframe\">\n",
       "  <thead>\n",
       "    <tr style=\"text-align: right;\">\n",
       "      <th></th>\n",
       "      <th>CreditScore</th>\n",
       "      <th>Age</th>\n",
       "      <th>Tenure</th>\n",
       "      <th>Balance</th>\n",
       "      <th>NumOfProducts</th>\n",
       "      <th>HasCrCard</th>\n",
       "      <th>IsActiveMember</th>\n",
       "      <th>EstimatedSalary</th>\n",
       "      <th>Exited</th>\n",
       "      <th>Geography_Germany</th>\n",
       "      <th>Geography_Spain</th>\n",
       "      <th>Gender_Male</th>\n",
       "    </tr>\n",
       "  </thead>\n",
       "  <tbody>\n",
       "    <tr>\n",
       "      <th>0</th>\n",
       "      <td>619</td>\n",
       "      <td>42</td>\n",
       "      <td>2</td>\n",
       "      <td>0.00</td>\n",
       "      <td>1</td>\n",
       "      <td>1</td>\n",
       "      <td>1</td>\n",
       "      <td>101348.88</td>\n",
       "      <td>1</td>\n",
       "      <td>0</td>\n",
       "      <td>0</td>\n",
       "      <td>0</td>\n",
       "    </tr>\n",
       "    <tr>\n",
       "      <th>1</th>\n",
       "      <td>608</td>\n",
       "      <td>41</td>\n",
       "      <td>1</td>\n",
       "      <td>83807.86</td>\n",
       "      <td>1</td>\n",
       "      <td>0</td>\n",
       "      <td>1</td>\n",
       "      <td>112542.58</td>\n",
       "      <td>0</td>\n",
       "      <td>0</td>\n",
       "      <td>1</td>\n",
       "      <td>0</td>\n",
       "    </tr>\n",
       "    <tr>\n",
       "      <th>2</th>\n",
       "      <td>502</td>\n",
       "      <td>42</td>\n",
       "      <td>8</td>\n",
       "      <td>159660.80</td>\n",
       "      <td>3</td>\n",
       "      <td>1</td>\n",
       "      <td>0</td>\n",
       "      <td>113931.57</td>\n",
       "      <td>1</td>\n",
       "      <td>0</td>\n",
       "      <td>0</td>\n",
       "      <td>0</td>\n",
       "    </tr>\n",
       "    <tr>\n",
       "      <th>3</th>\n",
       "      <td>699</td>\n",
       "      <td>39</td>\n",
       "      <td>1</td>\n",
       "      <td>0.00</td>\n",
       "      <td>2</td>\n",
       "      <td>0</td>\n",
       "      <td>0</td>\n",
       "      <td>93826.63</td>\n",
       "      <td>0</td>\n",
       "      <td>0</td>\n",
       "      <td>0</td>\n",
       "      <td>0</td>\n",
       "    </tr>\n",
       "    <tr>\n",
       "      <th>4</th>\n",
       "      <td>850</td>\n",
       "      <td>43</td>\n",
       "      <td>2</td>\n",
       "      <td>125510.82</td>\n",
       "      <td>1</td>\n",
       "      <td>1</td>\n",
       "      <td>1</td>\n",
       "      <td>79084.10</td>\n",
       "      <td>0</td>\n",
       "      <td>0</td>\n",
       "      <td>1</td>\n",
       "      <td>0</td>\n",
       "    </tr>\n",
       "  </tbody>\n",
       "</table>\n",
       "</div>"
      ],
      "text/plain": [
       "   CreditScore  Age  Tenure    Balance  NumOfProducts  HasCrCard  \\\n",
       "0          619   42       2       0.00              1          1   \n",
       "1          608   41       1   83807.86              1          0   \n",
       "2          502   42       8  159660.80              3          1   \n",
       "3          699   39       1       0.00              2          0   \n",
       "4          850   43       2  125510.82              1          1   \n",
       "\n",
       "   IsActiveMember  EstimatedSalary  Exited  Geography_Germany  \\\n",
       "0               1        101348.88       1                  0   \n",
       "1               1        112542.58       0                  0   \n",
       "2               0        113931.57       1                  0   \n",
       "3               0         93826.63       0                  0   \n",
       "4               1         79084.10       0                  0   \n",
       "\n",
       "   Geography_Spain  Gender_Male  \n",
       "0                0            0  \n",
       "1                1            0  \n",
       "2                0            0  \n",
       "3                0            0  \n",
       "4                1            0  "
      ]
     },
     "execution_count": 72,
     "metadata": {},
     "output_type": "execute_result"
    }
   ],
   "source": [
    "df.head()"
   ]
  },
  {
   "cell_type": "code",
   "execution_count": 73,
   "metadata": {
    "execution": {
     "iopub.execute_input": "2023-07-05T14:58:51.828939Z",
     "iopub.status.busy": "2023-07-05T14:58:51.827928Z",
     "iopub.status.idle": "2023-07-05T14:58:51.836774Z",
     "shell.execute_reply": "2023-07-05T14:58:51.836023Z",
     "shell.execute_reply.started": "2023-07-05T14:58:51.828908Z"
    }
   },
   "outputs": [],
   "source": [
    "# Assigning independent and dependent variables\n",
    "X = df.drop(\"Exited\",axis=1)\n",
    "y = df[\"Exited\"]"
   ]
  },
  {
   "cell_type": "code",
   "execution_count": 74,
   "metadata": {
    "execution": {
     "iopub.execute_input": "2023-07-05T14:58:51.838669Z",
     "iopub.status.busy": "2023-07-05T14:58:51.837974Z",
     "iopub.status.idle": "2023-07-05T14:58:51.850856Z",
     "shell.execute_reply": "2023-07-05T14:58:51.849938Z",
     "shell.execute_reply.started": "2023-07-05T14:58:51.838638Z"
    }
   },
   "outputs": [],
   "source": [
    "# Performing train,test and split\n",
    "from sklearn.model_selection import train_test_split\n",
    "\n",
    "X_train,X_test,y_train,y_test = train_test_split(X,y,test_size=0.2,random_state=1)"
   ]
  },
  {
   "cell_type": "code",
   "execution_count": 75,
   "metadata": {
    "execution": {
     "iopub.execute_input": "2023-07-05T14:58:51.854425Z",
     "iopub.status.busy": "2023-07-05T14:58:51.853342Z",
     "iopub.status.idle": "2023-07-05T14:58:51.866899Z",
     "shell.execute_reply": "2023-07-05T14:58:51.865378Z",
     "shell.execute_reply.started": "2023-07-05T14:58:51.854384Z"
    }
   },
   "outputs": [],
   "source": [
    "# Standardize the features using StandardScaler\n",
    "from sklearn.preprocessing import StandardScaler\n",
    "\n",
    "sc = StandardScaler()\n",
    "X_train_scaled = sc.fit_transform(X_train)\n",
    "X_test_scaled = sc.transform(X_test)"
   ]
  },
  {
   "cell_type": "code",
   "execution_count": 76,
   "metadata": {
    "execution": {
     "iopub.execute_input": "2023-07-05T14:58:51.871415Z",
     "iopub.status.busy": "2023-07-05T14:58:51.870917Z",
     "iopub.status.idle": "2023-07-05T14:58:51.875943Z",
     "shell.execute_reply": "2023-07-05T14:58:51.874937Z",
     "shell.execute_reply.started": "2023-07-05T14:58:51.871385Z"
    }
   },
   "outputs": [],
   "source": [
    "# necessary libraries for creating ANN\n",
    "import tensorflow\n",
    "from tensorflow import keras\n",
    "from keras import Sequential\n",
    "from keras.layers import Dense"
   ]
  },
  {
   "cell_type": "markdown",
   "metadata": {},
   "source": [
    "### ***Model 1***"
   ]
  },
  {
   "cell_type": "code",
   "execution_count": 77,
   "metadata": {
    "execution": {
     "iopub.execute_input": "2023-07-05T14:58:51.878669Z",
     "iopub.status.busy": "2023-07-05T14:58:51.878379Z",
     "iopub.status.idle": "2023-07-05T14:58:51.911498Z",
     "shell.execute_reply": "2023-07-05T14:58:51.910657Z",
     "shell.execute_reply.started": "2023-07-05T14:58:51.878637Z"
    }
   },
   "outputs": [],
   "source": [
    "# Create the model\n",
    "model = Sequential()\n",
    "\n",
    "# Add the first layer with 3 units and sigmoid activation\n",
    "model.add(Dense(3,activation=\"sigmoid\",input_dim = 11))\n",
    "\n",
    "# Add the second layer with 1 unit and sigmoid activation\n",
    "model.add(Dense(1,activation=\"sigmoid\"))"
   ]
  },
  {
   "cell_type": "code",
   "execution_count": 78,
   "metadata": {
    "execution": {
     "iopub.execute_input": "2023-07-05T14:58:51.913950Z",
     "iopub.status.busy": "2023-07-05T14:58:51.913424Z",
     "iopub.status.idle": "2023-07-05T14:58:51.930106Z",
     "shell.execute_reply": "2023-07-05T14:58:51.929389Z",
     "shell.execute_reply.started": "2023-07-05T14:58:51.913920Z"
    }
   },
   "outputs": [
    {
     "name": "stdout",
     "output_type": "stream",
     "text": [
      "Model: \"sequential_2\"\n",
      "_________________________________________________________________\n",
      " Layer (type)                Output Shape              Param #   \n",
      "=================================================================\n",
      " dense_5 (Dense)             (None, 3)                 36        \n",
      "                                                                 \n",
      " dense_6 (Dense)             (None, 1)                 4         \n",
      "                                                                 \n",
      "=================================================================\n",
      "Total params: 40\n",
      "Trainable params: 40\n",
      "Non-trainable params: 0\n",
      "_________________________________________________________________\n"
     ]
    }
   ],
   "source": [
    "model.summary()"
   ]
  },
  {
   "cell_type": "code",
   "execution_count": 79,
   "metadata": {
    "execution": {
     "iopub.execute_input": "2023-07-05T14:58:51.932303Z",
     "iopub.status.busy": "2023-07-05T14:58:51.931798Z",
     "iopub.status.idle": "2023-07-05T14:58:51.945019Z",
     "shell.execute_reply": "2023-07-05T14:58:51.944044Z",
     "shell.execute_reply.started": "2023-07-05T14:58:51.932272Z"
    }
   },
   "outputs": [],
   "source": [
    "# Compile the model with Adam optimizer and binary cross-entropy loss\n",
    "model.compile(optimizer=\"Adam\",loss=\"binary_crossentropy\")"
   ]
  },
  {
   "cell_type": "code",
   "execution_count": 80,
   "metadata": {
    "execution": {
     "iopub.execute_input": "2023-07-05T14:58:51.947849Z",
     "iopub.status.busy": "2023-07-05T14:58:51.947131Z",
     "iopub.status.idle": "2023-07-05T14:59:02.620738Z",
     "shell.execute_reply": "2023-07-05T14:59:02.619713Z",
     "shell.execute_reply.started": "2023-07-05T14:58:51.947817Z"
    }
   },
   "outputs": [
    {
     "name": "stdout",
     "output_type": "stream",
     "text": [
      "Epoch 1/10\n",
      "250/250 [==============================] - 1s 2ms/step - loss: 0.5756\n",
      "Epoch 2/10\n",
      "250/250 [==============================] - 1s 2ms/step - loss: 0.4953\n",
      "Epoch 3/10\n",
      "250/250 [==============================] - 1s 2ms/step - loss: 0.4647\n",
      "Epoch 4/10\n",
      "250/250 [==============================] - 1s 2ms/step - loss: 0.4507\n",
      "Epoch 5/10\n",
      "250/250 [==============================] - 1s 2ms/step - loss: 0.4425\n",
      "Epoch 6/10\n",
      "250/250 [==============================] - 1s 2ms/step - loss: 0.4370\n",
      "Epoch 7/10\n",
      "250/250 [==============================] - 1s 2ms/step - loss: 0.4331\n",
      "Epoch 8/10\n",
      "250/250 [==============================] - 1s 2ms/step - loss: 0.4303\n",
      "Epoch 9/10\n",
      "250/250 [==============================] - 1s 2ms/step - loss: 0.4284\n",
      "Epoch 10/10\n",
      "250/250 [==============================] - 1s 2ms/step - loss: 0.4267\n"
     ]
    },
    {
     "data": {
      "text/plain": [
       "<keras.callbacks.History at 0x7eeec221a980>"
      ]
     },
     "execution_count": 80,
     "metadata": {},
     "output_type": "execute_result"
    }
   ],
   "source": [
    "# Training the model using the fit() function\n",
    "model.fit(X_train_scaled,y_train,epochs=10)"
   ]
  },
  {
   "cell_type": "code",
   "execution_count": 81,
   "metadata": {
    "execution": {
     "iopub.execute_input": "2023-07-05T14:59:02.623467Z",
     "iopub.status.busy": "2023-07-05T14:59:02.623085Z",
     "iopub.status.idle": "2023-07-05T14:59:02.633037Z",
     "shell.execute_reply": "2023-07-05T14:59:02.632046Z",
     "shell.execute_reply.started": "2023-07-05T14:59:02.623433Z"
    }
   },
   "outputs": [
    {
     "data": {
      "text/plain": [
       "[array([[ 6.21877275e-02,  2.46910546e-02, -2.30065733e-01],\n",
       "        [-6.11232698e-01, -1.10016596e+00,  1.78615224e+00],\n",
       "        [-7.72023052e-02,  1.97354898e-01,  3.21899831e-01],\n",
       "        [-6.20918453e-01,  1.20711155e-01,  7.22397864e-01],\n",
       "        [-2.37662375e-01,  3.88834059e-01,  1.60468459e-01],\n",
       "        [-3.34449023e-01,  5.06626256e-02, -2.17723161e-01],\n",
       "        [ 1.14660394e+00,  6.11715198e-01, -4.02011603e-01],\n",
       "        [-2.61540711e-01, -1.92706715e-02, -3.25079150e-02],\n",
       "        [-9.88035917e-01, -5.44496357e-01, -9.24307387e-03],\n",
       "        [-1.21852368e-01,  2.76918028e-04, -5.36673926e-02],\n",
       "        [ 3.84434253e-01,  3.24449033e-01, -5.33709168e-01]], dtype=float32),\n",
       " array([ 0.4816066 ,  0.5657823 , -0.35480633], dtype=float32)]"
      ]
     },
     "execution_count": 81,
     "metadata": {},
     "output_type": "execute_result"
    }
   ],
   "source": [
    "# Accessing the weights of the first layer in the model\n",
    "model.layers[0].get_weights()"
   ]
  },
  {
   "cell_type": "code",
   "execution_count": 82,
   "metadata": {
    "execution": {
     "iopub.execute_input": "2023-07-05T14:59:02.635303Z",
     "iopub.status.busy": "2023-07-05T14:59:02.634723Z",
     "iopub.status.idle": "2023-07-05T14:59:02.645338Z",
     "shell.execute_reply": "2023-07-05T14:59:02.644435Z",
     "shell.execute_reply.started": "2023-07-05T14:59:02.635268Z"
    }
   },
   "outputs": [
    {
     "data": {
      "text/plain": [
       "[array([[-0.6347502],\n",
       "        [-1.9618398],\n",
       "        [ 0.88073  ]], dtype=float32),\n",
       " array([-0.41498026], dtype=float32)]"
      ]
     },
     "execution_count": 82,
     "metadata": {},
     "output_type": "execute_result"
    }
   ],
   "source": [
    "# Retrieve the weights of the second layer of the model\n",
    "model.layers[1].get_weights()"
   ]
  },
  {
   "cell_type": "code",
   "execution_count": 83,
   "metadata": {
    "execution": {
     "iopub.execute_input": "2023-07-05T14:59:02.648464Z",
     "iopub.status.busy": "2023-07-05T14:59:02.648161Z",
     "iopub.status.idle": "2023-07-05T14:59:02.872607Z",
     "shell.execute_reply": "2023-07-05T14:59:02.871708Z",
     "shell.execute_reply.started": "2023-07-05T14:59:02.648428Z"
    }
   },
   "outputs": [
    {
     "name": "stdout",
     "output_type": "stream",
     "text": [
      "63/63 [==============================] - 0s 1ms/step\n"
     ]
    },
    {
     "data": {
      "text/plain": [
       "array([[0.10700123],\n",
       "       [0.13493906],\n",
       "       [0.13289262],\n",
       "       ...,\n",
       "       [0.06053038],\n",
       "       [0.13067462],\n",
       "       [0.39115724]], dtype=float32)"
      ]
     },
     "execution_count": 83,
     "metadata": {},
     "output_type": "execute_result"
    }
   ],
   "source": [
    "# Doing prediction\n",
    "y_pred = model.predict(X_test_scaled)\n",
    "y_pred"
   ]
  },
  {
   "cell_type": "code",
   "execution_count": 84,
   "metadata": {
    "execution": {
     "iopub.execute_input": "2023-07-05T14:59:02.874663Z",
     "iopub.status.busy": "2023-07-05T14:59:02.873850Z",
     "iopub.status.idle": "2023-07-05T14:59:02.881509Z",
     "shell.execute_reply": "2023-07-05T14:59:02.880518Z",
     "shell.execute_reply.started": "2023-07-05T14:59:02.874631Z"
    }
   },
   "outputs": [
    {
     "data": {
      "text/plain": [
       "array([[0],\n",
       "       [0],\n",
       "       [0],\n",
       "       ...,\n",
       "       [0],\n",
       "       [0],\n",
       "       [0]])"
      ]
     },
     "execution_count": 84,
     "metadata": {},
     "output_type": "execute_result"
    }
   ],
   "source": [
    "# Convert y_pred values to binary based on a threshold of 0.5\n",
    "y_pred = np.where(y_pred>0.5,1,0)\n",
    "\n",
    "# Display the resulting y_pred\n",
    "y_pred"
   ]
  },
  {
   "cell_type": "code",
   "execution_count": 86,
   "metadata": {
    "execution": {
     "iopub.execute_input": "2023-07-05T14:59:02.894209Z",
     "iopub.status.busy": "2023-07-05T14:59:02.893854Z",
     "iopub.status.idle": "2023-07-05T14:59:02.908152Z",
     "shell.execute_reply": "2023-07-05T14:59:02.907255Z",
     "shell.execute_reply.started": "2023-07-05T14:59:02.894156Z"
    }
   },
   "outputs": [
    {
     "data": {
      "text/plain": [
       "0.8135"
      ]
     },
     "execution_count": 86,
     "metadata": {},
     "output_type": "execute_result"
    }
   ],
   "source": [
    "from sklearn.metrics import accuracy_score\n",
    "# Calculate the accuracy score\n",
    "accuracy_score(y_test,y_pred)"
   ]
  },
  {
   "cell_type": "markdown",
   "metadata": {},
   "source": [
    "### ***Model 2***"
   ]
  },
  {
   "cell_type": "code",
   "execution_count": 87,
   "metadata": {
    "execution": {
     "iopub.execute_input": "2023-07-05T14:59:02.911487Z",
     "iopub.status.busy": "2023-07-05T14:59:02.911206Z",
     "iopub.status.idle": "2023-07-05T14:59:02.953110Z",
     "shell.execute_reply": "2023-07-05T14:59:02.952264Z",
     "shell.execute_reply.started": "2023-07-05T14:59:02.911463Z"
    }
   },
   "outputs": [],
   "source": [
    "model = Sequential()\n",
    "\n",
    "model.add(Dense(11,activation=\"relu\",input_dim = 11))\n",
    "model.add(Dense(11,activation=\"relu\"))\n",
    "model.add(Dense(1,activation=\"sigmoid\"))"
   ]
  },
  {
   "cell_type": "code",
   "execution_count": 88,
   "metadata": {
    "execution": {
     "iopub.execute_input": "2023-07-05T14:59:02.954904Z",
     "iopub.status.busy": "2023-07-05T14:59:02.954560Z",
     "iopub.status.idle": "2023-07-05T14:59:02.971888Z",
     "shell.execute_reply": "2023-07-05T14:59:02.971186Z",
     "shell.execute_reply.started": "2023-07-05T14:59:02.954872Z"
    }
   },
   "outputs": [
    {
     "name": "stdout",
     "output_type": "stream",
     "text": [
      "Model: \"sequential_3\"\n",
      "_________________________________________________________________\n",
      " Layer (type)                Output Shape              Param #   \n",
      "=================================================================\n",
      " dense_7 (Dense)             (None, 11)                132       \n",
      "                                                                 \n",
      " dense_8 (Dense)             (None, 11)                132       \n",
      "                                                                 \n",
      " dense_9 (Dense)             (None, 1)                 12        \n",
      "                                                                 \n",
      "=================================================================\n",
      "Total params: 276\n",
      "Trainable params: 276\n",
      "Non-trainable params: 0\n",
      "_________________________________________________________________\n"
     ]
    }
   ],
   "source": [
    "model.summary()"
   ]
  },
  {
   "cell_type": "code",
   "execution_count": 89,
   "metadata": {
    "execution": {
     "iopub.execute_input": "2023-07-05T14:59:02.975740Z",
     "iopub.status.busy": "2023-07-05T14:59:02.975399Z",
     "iopub.status.idle": "2023-07-05T14:59:02.991092Z",
     "shell.execute_reply": "2023-07-05T14:59:02.989996Z",
     "shell.execute_reply.started": "2023-07-05T14:59:02.975709Z"
    }
   },
   "outputs": [],
   "source": [
    "model.compile(optimizer=\"Adam\",loss=\"binary_crossentropy\",metrics=\"accuracy\")"
   ]
  },
  {
   "cell_type": "code",
   "execution_count": 90,
   "metadata": {
    "execution": {
     "iopub.execute_input": "2023-07-05T14:59:02.993155Z",
     "iopub.status.busy": "2023-07-05T14:59:02.992500Z",
     "iopub.status.idle": "2023-07-05T15:00:12.320829Z",
     "shell.execute_reply": "2023-07-05T15:00:12.319924Z",
     "shell.execute_reply.started": "2023-07-05T14:59:02.993124Z"
    }
   },
   "outputs": [
    {
     "name": "stdout",
     "output_type": "stream",
     "text": [
      "Epoch 1/100\n",
      "200/200 [==============================] - 2s 4ms/step - loss: 0.5497 - accuracy: 0.7623 - val_loss: 0.4976 - val_accuracy: 0.8056\n",
      "Epoch 2/100\n",
      "200/200 [==============================] - 1s 3ms/step - loss: 0.4611 - accuracy: 0.8042 - val_loss: 0.4482 - val_accuracy: 0.8106\n",
      "Epoch 3/100\n",
      "200/200 [==============================] - 1s 3ms/step - loss: 0.4248 - accuracy: 0.8188 - val_loss: 0.4200 - val_accuracy: 0.8194\n",
      "Epoch 4/100\n",
      "200/200 [==============================] - 1s 3ms/step - loss: 0.4022 - accuracy: 0.8325 - val_loss: 0.3978 - val_accuracy: 0.8275\n",
      "Epoch 5/100\n",
      "200/200 [==============================] - 1s 3ms/step - loss: 0.3842 - accuracy: 0.8428 - val_loss: 0.3834 - val_accuracy: 0.8344\n",
      "Epoch 6/100\n",
      "200/200 [==============================] - 1s 3ms/step - loss: 0.3721 - accuracy: 0.8503 - val_loss: 0.3740 - val_accuracy: 0.8388\n",
      "Epoch 7/100\n",
      "200/200 [==============================] - 1s 3ms/step - loss: 0.3646 - accuracy: 0.8542 - val_loss: 0.3706 - val_accuracy: 0.8438\n",
      "Epoch 8/100\n",
      "200/200 [==============================] - 1s 3ms/step - loss: 0.3594 - accuracy: 0.8531 - val_loss: 0.3695 - val_accuracy: 0.8388\n",
      "Epoch 9/100\n",
      "200/200 [==============================] - 1s 3ms/step - loss: 0.3560 - accuracy: 0.8553 - val_loss: 0.3659 - val_accuracy: 0.8419\n",
      "Epoch 10/100\n",
      "200/200 [==============================] - 1s 3ms/step - loss: 0.3529 - accuracy: 0.8559 - val_loss: 0.3638 - val_accuracy: 0.8456\n",
      "Epoch 11/100\n",
      "200/200 [==============================] - 1s 3ms/step - loss: 0.3510 - accuracy: 0.8558 - val_loss: 0.3648 - val_accuracy: 0.8438\n",
      "Epoch 12/100\n",
      "200/200 [==============================] - 1s 3ms/step - loss: 0.3491 - accuracy: 0.8558 - val_loss: 0.3630 - val_accuracy: 0.8444\n",
      "Epoch 13/100\n",
      "200/200 [==============================] - 1s 3ms/step - loss: 0.3474 - accuracy: 0.8575 - val_loss: 0.3617 - val_accuracy: 0.8456\n",
      "Epoch 14/100\n",
      "200/200 [==============================] - 1s 3ms/step - loss: 0.3465 - accuracy: 0.8561 - val_loss: 0.3618 - val_accuracy: 0.8456\n",
      "Epoch 15/100\n",
      "200/200 [==============================] - 1s 3ms/step - loss: 0.3451 - accuracy: 0.8581 - val_loss: 0.3602 - val_accuracy: 0.8481\n",
      "Epoch 16/100\n",
      "200/200 [==============================] - 1s 3ms/step - loss: 0.3438 - accuracy: 0.8603 - val_loss: 0.3606 - val_accuracy: 0.8462\n",
      "Epoch 17/100\n",
      "200/200 [==============================] - 1s 3ms/step - loss: 0.3428 - accuracy: 0.8606 - val_loss: 0.3593 - val_accuracy: 0.8462\n",
      "Epoch 18/100\n",
      "200/200 [==============================] - 1s 3ms/step - loss: 0.3416 - accuracy: 0.8612 - val_loss: 0.3596 - val_accuracy: 0.8500\n",
      "Epoch 19/100\n",
      "200/200 [==============================] - 1s 5ms/step - loss: 0.3407 - accuracy: 0.8617 - val_loss: 0.3592 - val_accuracy: 0.8475\n",
      "Epoch 20/100\n",
      "200/200 [==============================] - 1s 4ms/step - loss: 0.3392 - accuracy: 0.8625 - val_loss: 0.3575 - val_accuracy: 0.8512\n",
      "Epoch 21/100\n",
      "200/200 [==============================] - 1s 3ms/step - loss: 0.3387 - accuracy: 0.8612 - val_loss: 0.3594 - val_accuracy: 0.8481\n",
      "Epoch 22/100\n",
      "200/200 [==============================] - 1s 3ms/step - loss: 0.3379 - accuracy: 0.8622 - val_loss: 0.3578 - val_accuracy: 0.8494\n",
      "Epoch 23/100\n",
      "200/200 [==============================] - 1s 3ms/step - loss: 0.3374 - accuracy: 0.8600 - val_loss: 0.3590 - val_accuracy: 0.8487\n",
      "Epoch 24/100\n",
      "200/200 [==============================] - 1s 3ms/step - loss: 0.3366 - accuracy: 0.8641 - val_loss: 0.3577 - val_accuracy: 0.8494\n",
      "Epoch 25/100\n",
      "200/200 [==============================] - 1s 3ms/step - loss: 0.3364 - accuracy: 0.8628 - val_loss: 0.3573 - val_accuracy: 0.8506\n",
      "Epoch 26/100\n",
      "200/200 [==============================] - 1s 3ms/step - loss: 0.3355 - accuracy: 0.8628 - val_loss: 0.3572 - val_accuracy: 0.8512\n",
      "Epoch 27/100\n",
      "200/200 [==============================] - 1s 3ms/step - loss: 0.3353 - accuracy: 0.8647 - val_loss: 0.3563 - val_accuracy: 0.8494\n",
      "Epoch 28/100\n",
      "200/200 [==============================] - 1s 4ms/step - loss: 0.3344 - accuracy: 0.8634 - val_loss: 0.3550 - val_accuracy: 0.8494\n",
      "Epoch 29/100\n",
      "200/200 [==============================] - 1s 3ms/step - loss: 0.3336 - accuracy: 0.8631 - val_loss: 0.3568 - val_accuracy: 0.8462\n",
      "Epoch 30/100\n",
      "200/200 [==============================] - 1s 3ms/step - loss: 0.3335 - accuracy: 0.8634 - val_loss: 0.3544 - val_accuracy: 0.8494\n",
      "Epoch 31/100\n",
      "200/200 [==============================] - 1s 3ms/step - loss: 0.3331 - accuracy: 0.8633 - val_loss: 0.3540 - val_accuracy: 0.8506\n",
      "Epoch 32/100\n",
      "200/200 [==============================] - 1s 3ms/step - loss: 0.3324 - accuracy: 0.8648 - val_loss: 0.3566 - val_accuracy: 0.8500\n",
      "Epoch 33/100\n",
      "200/200 [==============================] - 1s 3ms/step - loss: 0.3322 - accuracy: 0.8641 - val_loss: 0.3556 - val_accuracy: 0.8500\n",
      "Epoch 34/100\n",
      "200/200 [==============================] - 1s 3ms/step - loss: 0.3319 - accuracy: 0.8645 - val_loss: 0.3543 - val_accuracy: 0.8487\n",
      "Epoch 35/100\n",
      "200/200 [==============================] - 1s 3ms/step - loss: 0.3316 - accuracy: 0.8631 - val_loss: 0.3558 - val_accuracy: 0.8475\n",
      "Epoch 36/100\n",
      "200/200 [==============================] - 1s 3ms/step - loss: 0.3318 - accuracy: 0.8641 - val_loss: 0.3549 - val_accuracy: 0.8519\n",
      "Epoch 37/100\n",
      "200/200 [==============================] - 1s 3ms/step - loss: 0.3314 - accuracy: 0.8664 - val_loss: 0.3541 - val_accuracy: 0.8500\n",
      "Epoch 38/100\n",
      "200/200 [==============================] - 1s 3ms/step - loss: 0.3307 - accuracy: 0.8644 - val_loss: 0.3557 - val_accuracy: 0.8481\n",
      "Epoch 39/100\n",
      "200/200 [==============================] - 1s 3ms/step - loss: 0.3310 - accuracy: 0.8636 - val_loss: 0.3543 - val_accuracy: 0.8500\n",
      "Epoch 40/100\n",
      "200/200 [==============================] - 1s 3ms/step - loss: 0.3309 - accuracy: 0.8659 - val_loss: 0.3534 - val_accuracy: 0.8487\n",
      "Epoch 41/100\n",
      "200/200 [==============================] - 1s 3ms/step - loss: 0.3304 - accuracy: 0.8631 - val_loss: 0.3541 - val_accuracy: 0.8494\n",
      "Epoch 42/100\n",
      "200/200 [==============================] - 1s 3ms/step - loss: 0.3304 - accuracy: 0.8658 - val_loss: 0.3539 - val_accuracy: 0.8487\n",
      "Epoch 43/100\n",
      "200/200 [==============================] - 1s 3ms/step - loss: 0.3297 - accuracy: 0.8658 - val_loss: 0.3547 - val_accuracy: 0.8487\n",
      "Epoch 44/100\n",
      "200/200 [==============================] - 1s 3ms/step - loss: 0.3293 - accuracy: 0.8648 - val_loss: 0.3555 - val_accuracy: 0.8494\n",
      "Epoch 45/100\n",
      "200/200 [==============================] - 1s 3ms/step - loss: 0.3292 - accuracy: 0.8653 - val_loss: 0.3549 - val_accuracy: 0.8494\n",
      "Epoch 46/100\n",
      "200/200 [==============================] - 1s 3ms/step - loss: 0.3297 - accuracy: 0.8655 - val_loss: 0.3540 - val_accuracy: 0.8494\n",
      "Epoch 47/100\n",
      "200/200 [==============================] - 1s 3ms/step - loss: 0.3290 - accuracy: 0.8652 - val_loss: 0.3533 - val_accuracy: 0.8487\n",
      "Epoch 48/100\n",
      "200/200 [==============================] - 1s 3ms/step - loss: 0.3290 - accuracy: 0.8650 - val_loss: 0.3544 - val_accuracy: 0.8487\n",
      "Epoch 49/100\n",
      "200/200 [==============================] - 1s 3ms/step - loss: 0.3289 - accuracy: 0.8636 - val_loss: 0.3541 - val_accuracy: 0.8506\n",
      "Epoch 50/100\n",
      "200/200 [==============================] - 1s 3ms/step - loss: 0.3285 - accuracy: 0.8670 - val_loss: 0.3528 - val_accuracy: 0.8506\n",
      "Epoch 51/100\n",
      "200/200 [==============================] - 1s 3ms/step - loss: 0.3286 - accuracy: 0.8641 - val_loss: 0.3516 - val_accuracy: 0.8481\n",
      "Epoch 52/100\n",
      "200/200 [==============================] - 1s 3ms/step - loss: 0.3281 - accuracy: 0.8647 - val_loss: 0.3541 - val_accuracy: 0.8487\n",
      "Epoch 53/100\n",
      "200/200 [==============================] - 1s 3ms/step - loss: 0.3279 - accuracy: 0.8645 - val_loss: 0.3529 - val_accuracy: 0.8469\n",
      "Epoch 54/100\n",
      "200/200 [==============================] - 1s 4ms/step - loss: 0.3277 - accuracy: 0.8648 - val_loss: 0.3540 - val_accuracy: 0.8506\n",
      "Epoch 55/100\n",
      "200/200 [==============================] - 1s 3ms/step - loss: 0.3281 - accuracy: 0.8645 - val_loss: 0.3531 - val_accuracy: 0.8506\n",
      "Epoch 56/100\n",
      "200/200 [==============================] - 1s 3ms/step - loss: 0.3275 - accuracy: 0.8636 - val_loss: 0.3535 - val_accuracy: 0.8494\n",
      "Epoch 57/100\n",
      "200/200 [==============================] - 1s 3ms/step - loss: 0.3271 - accuracy: 0.8666 - val_loss: 0.3548 - val_accuracy: 0.8494\n",
      "Epoch 58/100\n",
      "200/200 [==============================] - 1s 4ms/step - loss: 0.3276 - accuracy: 0.8637 - val_loss: 0.3550 - val_accuracy: 0.8469\n",
      "Epoch 59/100\n",
      "200/200 [==============================] - 1s 3ms/step - loss: 0.3274 - accuracy: 0.8666 - val_loss: 0.3538 - val_accuracy: 0.8494\n",
      "Epoch 60/100\n",
      "200/200 [==============================] - 1s 3ms/step - loss: 0.3271 - accuracy: 0.8641 - val_loss: 0.3525 - val_accuracy: 0.8512\n",
      "Epoch 61/100\n",
      "200/200 [==============================] - 1s 3ms/step - loss: 0.3270 - accuracy: 0.8648 - val_loss: 0.3534 - val_accuracy: 0.8494\n",
      "Epoch 62/100\n",
      "200/200 [==============================] - 1s 3ms/step - loss: 0.3267 - accuracy: 0.8647 - val_loss: 0.3525 - val_accuracy: 0.8506\n",
      "Epoch 63/100\n",
      "200/200 [==============================] - 1s 4ms/step - loss: 0.3266 - accuracy: 0.8666 - val_loss: 0.3521 - val_accuracy: 0.8481\n",
      "Epoch 64/100\n",
      "200/200 [==============================] - 1s 3ms/step - loss: 0.3268 - accuracy: 0.8667 - val_loss: 0.3524 - val_accuracy: 0.8506\n",
      "Epoch 65/100\n",
      "200/200 [==============================] - 1s 5ms/step - loss: 0.3264 - accuracy: 0.8655 - val_loss: 0.3538 - val_accuracy: 0.8500\n",
      "Epoch 66/100\n",
      "200/200 [==============================] - 1s 4ms/step - loss: 0.3262 - accuracy: 0.8677 - val_loss: 0.3529 - val_accuracy: 0.8481\n",
      "Epoch 67/100\n",
      "200/200 [==============================] - 1s 3ms/step - loss: 0.3254 - accuracy: 0.8661 - val_loss: 0.3527 - val_accuracy: 0.8487\n",
      "Epoch 68/100\n",
      "200/200 [==============================] - 1s 3ms/step - loss: 0.3261 - accuracy: 0.8662 - val_loss: 0.3523 - val_accuracy: 0.8481\n",
      "Epoch 69/100\n",
      "200/200 [==============================] - 1s 3ms/step - loss: 0.3260 - accuracy: 0.8672 - val_loss: 0.3525 - val_accuracy: 0.8494\n",
      "Epoch 70/100\n",
      "200/200 [==============================] - 1s 3ms/step - loss: 0.3255 - accuracy: 0.8677 - val_loss: 0.3521 - val_accuracy: 0.8500\n",
      "Epoch 71/100\n",
      "200/200 [==============================] - 1s 3ms/step - loss: 0.3250 - accuracy: 0.8653 - val_loss: 0.3513 - val_accuracy: 0.8494\n",
      "Epoch 72/100\n",
      "200/200 [==============================] - 1s 3ms/step - loss: 0.3258 - accuracy: 0.8670 - val_loss: 0.3509 - val_accuracy: 0.8487\n",
      "Epoch 73/100\n",
      "200/200 [==============================] - 1s 3ms/step - loss: 0.3256 - accuracy: 0.8675 - val_loss: 0.3519 - val_accuracy: 0.8475\n",
      "Epoch 74/100\n",
      "200/200 [==============================] - 1s 3ms/step - loss: 0.3255 - accuracy: 0.8666 - val_loss: 0.3535 - val_accuracy: 0.8456\n",
      "Epoch 75/100\n",
      "200/200 [==============================] - 1s 3ms/step - loss: 0.3251 - accuracy: 0.8661 - val_loss: 0.3511 - val_accuracy: 0.8475\n",
      "Epoch 76/100\n",
      "200/200 [==============================] - 1s 3ms/step - loss: 0.3255 - accuracy: 0.8666 - val_loss: 0.3516 - val_accuracy: 0.8487\n",
      "Epoch 77/100\n",
      "200/200 [==============================] - 1s 3ms/step - loss: 0.3251 - accuracy: 0.8675 - val_loss: 0.3525 - val_accuracy: 0.8481\n",
      "Epoch 78/100\n",
      "200/200 [==============================] - 1s 3ms/step - loss: 0.3251 - accuracy: 0.8669 - val_loss: 0.3513 - val_accuracy: 0.8500\n",
      "Epoch 79/100\n",
      "200/200 [==============================] - 1s 3ms/step - loss: 0.3251 - accuracy: 0.8666 - val_loss: 0.3514 - val_accuracy: 0.8481\n",
      "Epoch 80/100\n",
      "200/200 [==============================] - 1s 3ms/step - loss: 0.3248 - accuracy: 0.8675 - val_loss: 0.3519 - val_accuracy: 0.8487\n",
      "Epoch 81/100\n",
      "200/200 [==============================] - 1s 5ms/step - loss: 0.3251 - accuracy: 0.8648 - val_loss: 0.3522 - val_accuracy: 0.8462\n",
      "Epoch 82/100\n",
      "200/200 [==============================] - 1s 3ms/step - loss: 0.3251 - accuracy: 0.8666 - val_loss: 0.3529 - val_accuracy: 0.8494\n",
      "Epoch 83/100\n",
      "200/200 [==============================] - 1s 3ms/step - loss: 0.3244 - accuracy: 0.8684 - val_loss: 0.3531 - val_accuracy: 0.8500\n",
      "Epoch 84/100\n",
      "200/200 [==============================] - 1s 3ms/step - loss: 0.3244 - accuracy: 0.8678 - val_loss: 0.3528 - val_accuracy: 0.8481\n",
      "Epoch 85/100\n",
      "200/200 [==============================] - 1s 3ms/step - loss: 0.3245 - accuracy: 0.8659 - val_loss: 0.3525 - val_accuracy: 0.8475\n",
      "Epoch 86/100\n",
      "200/200 [==============================] - 1s 3ms/step - loss: 0.3245 - accuracy: 0.8675 - val_loss: 0.3511 - val_accuracy: 0.8487\n",
      "Epoch 87/100\n",
      "200/200 [==============================] - 1s 3ms/step - loss: 0.3240 - accuracy: 0.8667 - val_loss: 0.3540 - val_accuracy: 0.8481\n",
      "Epoch 88/100\n",
      "200/200 [==============================] - 1s 3ms/step - loss: 0.3242 - accuracy: 0.8650 - val_loss: 0.3525 - val_accuracy: 0.8481\n",
      "Epoch 89/100\n",
      "200/200 [==============================] - 1s 3ms/step - loss: 0.3240 - accuracy: 0.8664 - val_loss: 0.3523 - val_accuracy: 0.8469\n",
      "Epoch 90/100\n",
      "200/200 [==============================] - 1s 3ms/step - loss: 0.3237 - accuracy: 0.8666 - val_loss: 0.3523 - val_accuracy: 0.8494\n",
      "Epoch 91/100\n",
      "200/200 [==============================] - 1s 3ms/step - loss: 0.3237 - accuracy: 0.8662 - val_loss: 0.3518 - val_accuracy: 0.8475\n",
      "Epoch 92/100\n",
      "200/200 [==============================] - 1s 3ms/step - loss: 0.3244 - accuracy: 0.8659 - val_loss: 0.3521 - val_accuracy: 0.8494\n",
      "Epoch 93/100\n",
      "200/200 [==============================] - 1s 3ms/step - loss: 0.3234 - accuracy: 0.8678 - val_loss: 0.3521 - val_accuracy: 0.8512\n",
      "Epoch 94/100\n",
      "200/200 [==============================] - 1s 3ms/step - loss: 0.3235 - accuracy: 0.8662 - val_loss: 0.3515 - val_accuracy: 0.8494\n",
      "Epoch 95/100\n",
      "200/200 [==============================] - 1s 3ms/step - loss: 0.3239 - accuracy: 0.8664 - val_loss: 0.3513 - val_accuracy: 0.8487\n",
      "Epoch 96/100\n",
      "200/200 [==============================] - 1s 4ms/step - loss: 0.3232 - accuracy: 0.8670 - val_loss: 0.3527 - val_accuracy: 0.8487\n",
      "Epoch 97/100\n",
      "200/200 [==============================] - 1s 3ms/step - loss: 0.3232 - accuracy: 0.8662 - val_loss: 0.3515 - val_accuracy: 0.8481\n",
      "Epoch 98/100\n",
      "200/200 [==============================] - 1s 3ms/step - loss: 0.3236 - accuracy: 0.8650 - val_loss: 0.3525 - val_accuracy: 0.8487\n",
      "Epoch 99/100\n",
      "200/200 [==============================] - 1s 3ms/step - loss: 0.3231 - accuracy: 0.8672 - val_loss: 0.3518 - val_accuracy: 0.8500\n",
      "Epoch 100/100\n",
      "200/200 [==============================] - 1s 3ms/step - loss: 0.3231 - accuracy: 0.8677 - val_loss: 0.3511 - val_accuracy: 0.8506\n"
     ]
    }
   ],
   "source": [
    "history = model.fit(X_train_scaled,y_train,epochs=100,validation_split=0.2)"
   ]
  },
  {
   "cell_type": "code",
   "execution_count": 92,
   "metadata": {
    "execution": {
     "iopub.execute_input": "2023-07-05T15:00:17.383732Z",
     "iopub.status.busy": "2023-07-05T15:00:17.383388Z",
     "iopub.status.idle": "2023-07-05T15:00:17.395973Z",
     "shell.execute_reply": "2023-07-05T15:00:17.395004Z",
     "shell.execute_reply.started": "2023-07-05T15:00:17.383705Z"
    }
   },
   "outputs": [
    {
     "data": {
      "text/plain": [
       "{'loss': [0.5496967434883118,\n",
       "  0.4611455202102661,\n",
       "  0.42484402656555176,\n",
       "  0.4022240936756134,\n",
       "  0.38424304127693176,\n",
       "  0.3720966577529907,\n",
       "  0.364641010761261,\n",
       "  0.35939696431159973,\n",
       "  0.356023907661438,\n",
       "  0.35285454988479614,\n",
       "  0.35103631019592285,\n",
       "  0.34909072518348694,\n",
       "  0.3474358022212982,\n",
       "  0.34650853276252747,\n",
       "  0.34513309597969055,\n",
       "  0.34376075863838196,\n",
       "  0.34278857707977295,\n",
       "  0.3416498303413391,\n",
       "  0.3407341241836548,\n",
       "  0.33924633264541626,\n",
       "  0.3386518955230713,\n",
       "  0.33794093132019043,\n",
       "  0.3374468982219696,\n",
       "  0.3365832269191742,\n",
       "  0.3363833725452423,\n",
       "  0.33550530672073364,\n",
       "  0.3352673351764679,\n",
       "  0.3344109058380127,\n",
       "  0.33361929655075073,\n",
       "  0.3335281014442444,\n",
       "  0.333114892244339,\n",
       "  0.3324391543865204,\n",
       "  0.3321682810783386,\n",
       "  0.33187243342399597,\n",
       "  0.33157187700271606,\n",
       "  0.3317698538303375,\n",
       "  0.3314424455165863,\n",
       "  0.33070287108421326,\n",
       "  0.33103400468826294,\n",
       "  0.3309273421764374,\n",
       "  0.3304096460342407,\n",
       "  0.3303508460521698,\n",
       "  0.3297140598297119,\n",
       "  0.3293439447879791,\n",
       "  0.3291822075843811,\n",
       "  0.32965540885925293,\n",
       "  0.3290162682533264,\n",
       "  0.3290055990219116,\n",
       "  0.32891586422920227,\n",
       "  0.3284902572631836,\n",
       "  0.32858818769454956,\n",
       "  0.3281461000442505,\n",
       "  0.3278980553150177,\n",
       "  0.3277353346347809,\n",
       "  0.32806670665740967,\n",
       "  0.3274989426136017,\n",
       "  0.3271375000476837,\n",
       "  0.32759109139442444,\n",
       "  0.3274407684803009,\n",
       "  0.32705891132354736,\n",
       "  0.3269863426685333,\n",
       "  0.32671600580215454,\n",
       "  0.326570600271225,\n",
       "  0.32679417729377747,\n",
       "  0.3264473080635071,\n",
       "  0.3261846899986267,\n",
       "  0.32542791962623596,\n",
       "  0.3261013925075531,\n",
       "  0.3259565830230713,\n",
       "  0.325521856546402,\n",
       "  0.3250177502632141,\n",
       "  0.3258499205112457,\n",
       "  0.3255503475666046,\n",
       "  0.3254786729812622,\n",
       "  0.3250890076160431,\n",
       "  0.3255012035369873,\n",
       "  0.32509300112724304,\n",
       "  0.32510584592819214,\n",
       "  0.32511207461357117,\n",
       "  0.32484039664268494,\n",
       "  0.3251425623893738,\n",
       "  0.32510238885879517,\n",
       "  0.324441522359848,\n",
       "  0.32442519068717957,\n",
       "  0.32448962330818176,\n",
       "  0.32452720403671265,\n",
       "  0.3239991068840027,\n",
       "  0.3242093026638031,\n",
       "  0.32395049929618835,\n",
       "  0.32373493909835815,\n",
       "  0.3236934244632721,\n",
       "  0.32436561584472656,\n",
       "  0.32341113686561584,\n",
       "  0.323520690202713,\n",
       "  0.3238867521286011,\n",
       "  0.32322266697883606,\n",
       "  0.3232336938381195,\n",
       "  0.3235548436641693,\n",
       "  0.32306429743766785,\n",
       "  0.3230847418308258],\n",
       " 'accuracy': [0.7623437643051147,\n",
       "  0.8042187690734863,\n",
       "  0.8187500238418579,\n",
       "  0.8324999809265137,\n",
       "  0.8428124785423279,\n",
       "  0.8503124713897705,\n",
       "  0.8542187213897705,\n",
       "  0.8531249761581421,\n",
       "  0.8553125262260437,\n",
       "  0.8559374809265137,\n",
       "  0.8557812571525574,\n",
       "  0.8557812571525574,\n",
       "  0.8575000166893005,\n",
       "  0.8560937643051147,\n",
       "  0.8581249713897705,\n",
       "  0.8603125214576721,\n",
       "  0.8606250286102295,\n",
       "  0.8612499833106995,\n",
       "  0.8617187738418579,\n",
       "  0.862500011920929,\n",
       "  0.8612499833106995,\n",
       "  0.8621875047683716,\n",
       "  0.8600000143051147,\n",
       "  0.864062488079071,\n",
       "  0.8628125190734863,\n",
       "  0.8628125190734863,\n",
       "  0.8646875023841858,\n",
       "  0.8634374737739563,\n",
       "  0.8631250262260437,\n",
       "  0.8634374737739563,\n",
       "  0.86328125,\n",
       "  0.8648437261581421,\n",
       "  0.864062488079071,\n",
       "  0.8645312786102295,\n",
       "  0.8631250262260437,\n",
       "  0.864062488079071,\n",
       "  0.866406261920929,\n",
       "  0.8643749952316284,\n",
       "  0.8635937571525574,\n",
       "  0.8659374713897705,\n",
       "  0.8631250262260437,\n",
       "  0.8657812476158142,\n",
       "  0.8657812476158142,\n",
       "  0.8648437261581421,\n",
       "  0.8653125166893005,\n",
       "  0.8654687404632568,\n",
       "  0.8651562333106995,\n",
       "  0.8650000095367432,\n",
       "  0.8635937571525574,\n",
       "  0.8670312762260437,\n",
       "  0.864062488079071,\n",
       "  0.8646875023841858,\n",
       "  0.8645312786102295,\n",
       "  0.8648437261581421,\n",
       "  0.8645312786102295,\n",
       "  0.8635937571525574,\n",
       "  0.8665624856948853,\n",
       "  0.8637499809265137,\n",
       "  0.8665624856948853,\n",
       "  0.864062488079071,\n",
       "  0.8648437261581421,\n",
       "  0.8646875023841858,\n",
       "  0.8665624856948853,\n",
       "  0.8667187690734863,\n",
       "  0.8654687404632568,\n",
       "  0.8676562309265137,\n",
       "  0.8660937547683716,\n",
       "  0.8662499785423279,\n",
       "  0.8671875,\n",
       "  0.8676562309265137,\n",
       "  0.8653125166893005,\n",
       "  0.8670312762260437,\n",
       "  0.8675000071525574,\n",
       "  0.8665624856948853,\n",
       "  0.8660937547683716,\n",
       "  0.8665624856948853,\n",
       "  0.8675000071525574,\n",
       "  0.8668749928474426,\n",
       "  0.8665624856948853,\n",
       "  0.8675000071525574,\n",
       "  0.8648437261581421,\n",
       "  0.8665624856948853,\n",
       "  0.8684375286102295,\n",
       "  0.8678125143051147,\n",
       "  0.8659374713897705,\n",
       "  0.8675000071525574,\n",
       "  0.8667187690734863,\n",
       "  0.8650000095367432,\n",
       "  0.866406261920929,\n",
       "  0.8665624856948853,\n",
       "  0.8662499785423279,\n",
       "  0.8659374713897705,\n",
       "  0.8678125143051147,\n",
       "  0.8662499785423279,\n",
       "  0.866406261920929,\n",
       "  0.8670312762260437,\n",
       "  0.8662499785423279,\n",
       "  0.8650000095367432,\n",
       "  0.8671875,\n",
       "  0.8676562309265137],\n",
       " 'val_loss': [0.4975768029689789,\n",
       "  0.4482373297214508,\n",
       "  0.4199804961681366,\n",
       "  0.3977704644203186,\n",
       "  0.3834399878978729,\n",
       "  0.3740473985671997,\n",
       "  0.37061285972595215,\n",
       "  0.36946940422058105,\n",
       "  0.36588889360427856,\n",
       "  0.3638443350791931,\n",
       "  0.3647553324699402,\n",
       "  0.36303260922431946,\n",
       "  0.36172783374786377,\n",
       "  0.36184513568878174,\n",
       "  0.3601647913455963,\n",
       "  0.36062756180763245,\n",
       "  0.3593273162841797,\n",
       "  0.35962018370628357,\n",
       "  0.3591578006744385,\n",
       "  0.35752061009407043,\n",
       "  0.35940292477607727,\n",
       "  0.35775861144065857,\n",
       "  0.3589595854282379,\n",
       "  0.35767635703086853,\n",
       "  0.35727837681770325,\n",
       "  0.3571960926055908,\n",
       "  0.3563155233860016,\n",
       "  0.3550421893596649,\n",
       "  0.35680317878723145,\n",
       "  0.3544008731842041,\n",
       "  0.3540467917919159,\n",
       "  0.35662642121315,\n",
       "  0.355625718832016,\n",
       "  0.35431504249572754,\n",
       "  0.355831116437912,\n",
       "  0.35491612553596497,\n",
       "  0.3541316092014313,\n",
       "  0.35565051436424255,\n",
       "  0.35427865386009216,\n",
       "  0.35339775681495667,\n",
       "  0.3541187644004822,\n",
       "  0.3538685739040375,\n",
       "  0.3547339141368866,\n",
       "  0.35548001527786255,\n",
       "  0.3548645079135895,\n",
       "  0.35397017002105713,\n",
       "  0.35333335399627686,\n",
       "  0.354355126619339,\n",
       "  0.3541395962238312,\n",
       "  0.35275009274482727,\n",
       "  0.3516291379928589,\n",
       "  0.35410404205322266,\n",
       "  0.35292965173721313,\n",
       "  0.35397040843963623,\n",
       "  0.353083997964859,\n",
       "  0.353505939245224,\n",
       "  0.35477885603904724,\n",
       "  0.3549514710903168,\n",
       "  0.35384345054626465,\n",
       "  0.3524714708328247,\n",
       "  0.35337477922439575,\n",
       "  0.3525204360485077,\n",
       "  0.35214248299598694,\n",
       "  0.35244983434677124,\n",
       "  0.3537641167640686,\n",
       "  0.35286059975624084,\n",
       "  0.3527335822582245,\n",
       "  0.3522596061229706,\n",
       "  0.3525235056877136,\n",
       "  0.3520856499671936,\n",
       "  0.35125458240509033,\n",
       "  0.35085198283195496,\n",
       "  0.35188719630241394,\n",
       "  0.353464275598526,\n",
       "  0.3510875701904297,\n",
       "  0.35155922174453735,\n",
       "  0.35252881050109863,\n",
       "  0.3512585163116455,\n",
       "  0.35137805342674255,\n",
       "  0.351882666349411,\n",
       "  0.3521672785282135,\n",
       "  0.35294586420059204,\n",
       "  0.3530977666378021,\n",
       "  0.3527508080005646,\n",
       "  0.3524671494960785,\n",
       "  0.3510565161705017,\n",
       "  0.3540244996547699,\n",
       "  0.35252007842063904,\n",
       "  0.35234344005584717,\n",
       "  0.35233113169670105,\n",
       "  0.35178956389427185,\n",
       "  0.35208597779273987,\n",
       "  0.35214850306510925,\n",
       "  0.35151681303977966,\n",
       "  0.3512955904006958,\n",
       "  0.3526850640773773,\n",
       "  0.3514697253704071,\n",
       "  0.35252249240875244,\n",
       "  0.35181382298469543,\n",
       "  0.3510630130767822],\n",
       " 'val_accuracy': [0.8056250214576721,\n",
       "  0.8106250166893005,\n",
       "  0.8193749785423279,\n",
       "  0.8274999856948853,\n",
       "  0.8343750238418579,\n",
       "  0.8387500047683716,\n",
       "  0.84375,\n",
       "  0.8387500047683716,\n",
       "  0.8418750166893005,\n",
       "  0.8456249833106995,\n",
       "  0.84375,\n",
       "  0.8443750143051147,\n",
       "  0.8456249833106995,\n",
       "  0.8456249833106995,\n",
       "  0.8481249809265137,\n",
       "  0.8462499976158142,\n",
       "  0.8462499976158142,\n",
       "  0.8500000238418579,\n",
       "  0.8475000262260437,\n",
       "  0.8512499928474426,\n",
       "  0.8481249809265137,\n",
       "  0.8493750095367432,\n",
       "  0.8487499952316284,\n",
       "  0.8493750095367432,\n",
       "  0.8506249785423279,\n",
       "  0.8512499928474426,\n",
       "  0.8493750095367432,\n",
       "  0.8493750095367432,\n",
       "  0.8462499976158142,\n",
       "  0.8493750095367432,\n",
       "  0.8506249785423279,\n",
       "  0.8500000238418579,\n",
       "  0.8500000238418579,\n",
       "  0.8487499952316284,\n",
       "  0.8475000262260437,\n",
       "  0.8518750071525574,\n",
       "  0.8500000238418579,\n",
       "  0.8481249809265137,\n",
       "  0.8500000238418579,\n",
       "  0.8487499952316284,\n",
       "  0.8493750095367432,\n",
       "  0.8487499952316284,\n",
       "  0.8487499952316284,\n",
       "  0.8493750095367432,\n",
       "  0.8493750095367432,\n",
       "  0.8493750095367432,\n",
       "  0.8487499952316284,\n",
       "  0.8487499952316284,\n",
       "  0.8506249785423279,\n",
       "  0.8506249785423279,\n",
       "  0.8481249809265137,\n",
       "  0.8487499952316284,\n",
       "  0.846875011920929,\n",
       "  0.8506249785423279,\n",
       "  0.8506249785423279,\n",
       "  0.8493750095367432,\n",
       "  0.8493750095367432,\n",
       "  0.846875011920929,\n",
       "  0.8493750095367432,\n",
       "  0.8512499928474426,\n",
       "  0.8493750095367432,\n",
       "  0.8506249785423279,\n",
       "  0.8481249809265137,\n",
       "  0.8506249785423279,\n",
       "  0.8500000238418579,\n",
       "  0.8481249809265137,\n",
       "  0.8487499952316284,\n",
       "  0.8481249809265137,\n",
       "  0.8493750095367432,\n",
       "  0.8500000238418579,\n",
       "  0.8493750095367432,\n",
       "  0.8487499952316284,\n",
       "  0.8475000262260437,\n",
       "  0.8456249833106995,\n",
       "  0.8475000262260437,\n",
       "  0.8487499952316284,\n",
       "  0.8481249809265137,\n",
       "  0.8500000238418579,\n",
       "  0.8481249809265137,\n",
       "  0.8487499952316284,\n",
       "  0.8462499976158142,\n",
       "  0.8493750095367432,\n",
       "  0.8500000238418579,\n",
       "  0.8481249809265137,\n",
       "  0.8475000262260437,\n",
       "  0.8487499952316284,\n",
       "  0.8481249809265137,\n",
       "  0.8481249809265137,\n",
       "  0.846875011920929,\n",
       "  0.8493750095367432,\n",
       "  0.8475000262260437,\n",
       "  0.8493750095367432,\n",
       "  0.8512499928474426,\n",
       "  0.8493750095367432,\n",
       "  0.8487499952316284,\n",
       "  0.8487499952316284,\n",
       "  0.8481249809265137,\n",
       "  0.8487499952316284,\n",
       "  0.8500000238418579,\n",
       "  0.8506249785423279]}"
      ]
     },
     "execution_count": 92,
     "metadata": {},
     "output_type": "execute_result"
    }
   ],
   "source": [
    "history.history"
   ]
  },
  {
   "cell_type": "code",
   "execution_count": 93,
   "metadata": {
    "execution": {
     "iopub.execute_input": "2023-07-05T15:00:23.302125Z",
     "iopub.status.busy": "2023-07-05T15:00:23.301741Z",
     "iopub.status.idle": "2023-07-05T15:00:23.597599Z",
     "shell.execute_reply": "2023-07-05T15:00:23.596686Z",
     "shell.execute_reply.started": "2023-07-05T15:00:23.302096Z"
    }
   },
   "outputs": [
    {
     "data": {
      "text/plain": [
       "[<matplotlib.lines.Line2D at 0x7eef841cd3f0>]"
      ]
     },
     "execution_count": 93,
     "metadata": {},
     "output_type": "execute_result"
    },
    {
     "data": {
      "image/png": "[encoded data removed]",
      "text/plain": [
       "<Figure size 640x480 with 1 Axes>"
      ]
     },
     "metadata": {},
     "output_type": "display_data"
    }
   ],
   "source": [
    "# Plotting the loss and validation loss from the given history.\n",
    "plt.plot(history.history[\"loss\"])\n",
    "plt.plot(history.history[\"val_loss\"])"
   ]
  },
  {
   "cell_type": "code",
   "execution_count": 94,
   "metadata": {
    "execution": {
     "iopub.execute_input": "2023-07-05T15:00:26.420995Z",
     "iopub.status.busy": "2023-07-05T15:00:26.420555Z",
     "iopub.status.idle": "2023-07-05T15:00:26.667737Z",
     "shell.execute_reply": "2023-07-05T15:00:26.666829Z",
     "shell.execute_reply.started": "2023-07-05T15:00:26.420961Z"
    }
   },
   "outputs": [
    {
     "data": {
      "text/plain": [
       "[<matplotlib.lines.Line2D at 0x7eef842acf40>]"
      ]
     },
     "execution_count": 94,
     "metadata": {},
     "output_type": "execute_result"
    },
    {
     "data": {
      "image/png": "[encoded data removed]",
      "text/plain": [
       "<Figure size 640x480 with 1 Axes>"
      ]
     },
     "metadata": {},
     "output_type": "display_data"
    }
   ],
   "source": [
    "# Plotting the accuracy and validation accuracy from the history object\n",
    "plt.plot(history.history[\"accuracy\"])\n",
    "plt.plot(history.history[\"val_accuracy\"])"
   ]
  },
  {
   "cell_type": "code",
   "execution_count": 95,
   "metadata": {
    "execution": {
     "iopub.execute_input": "2023-07-05T15:00:30.489266Z",
     "iopub.status.busy": "2023-07-05T15:00:30.488910Z",
     "iopub.status.idle": "2023-07-05T15:00:30.501144Z",
     "shell.execute_reply": "2023-07-05T15:00:30.500176Z",
     "shell.execute_reply.started": "2023-07-05T15:00:30.489237Z"
    }
   },
   "outputs": [
    {
     "data": {
      "text/plain": [
       "[array([[-4.29599881e-02,  1.97667345e-01, -1.09298527e-01,\n",
       "         -6.14326537e-01, -4.36535239e-01, -7.67527241e-03,\n",
       "         -5.55398203e-02, -3.36052626e-02,  4.96431664e-02,\n",
       "          1.64485633e-01,  1.26361355e-01],\n",
       "        [-7.10286200e-02, -6.36507452e-01,  5.26110828e-01,\n",
       "          1.66674167e-01, -1.39933795e-01, -1.25538558e-01,\n",
       "          4.04026955e-01,  1.07781637e+00, -4.40521538e-01,\n",
       "         -4.17958051e-01,  2.29654416e-01],\n",
       "        [-4.25477713e-01, -3.09905320e-01, -6.33412972e-02,\n",
       "          7.42701948e-01, -6.37180924e-01, -2.61904001e-02,\n",
       "          3.70105244e-02, -4.05435152e-02,  1.28738983e-02,\n",
       "         -2.24284038e-01, -1.99764341e-01],\n",
       "        [-3.15315306e-01, -1.07558202e-02, -7.52058268e-01,\n",
       "          3.95763487e-01, -1.97882250e-01, -9.33340788e-01,\n",
       "         -1.58331156e-01, -5.11871338e-01,  1.03097863e-01,\n",
       "         -2.71656871e-01,  5.79808474e-01],\n",
       "        [-3.89868408e-01, -8.48165825e-02,  1.21481812e+00,\n",
       "         -2.44774312e-01, -3.64130586e-01,  1.18911453e-01,\n",
       "         -9.40949798e-01, -4.17188883e-01,  4.50969301e-02,\n",
       "          5.90349317e-01,  9.89951789e-01],\n",
       "        [-8.28066170e-02,  1.31485835e-02,  2.15912163e-01,\n",
       "          1.93547577e-01,  2.05945782e-02, -2.33885899e-01,\n",
       "          4.50880341e-02,  1.97567180e-01,  1.15736261e-01,\n",
       "         -3.79048772e-02, -5.73763885e-02],\n",
       "        [-8.17670882e-01, -2.98774570e-01,  2.11285456e-04,\n",
       "         -3.30267102e-01,  1.12801939e-01, -1.92703024e-01,\n",
       "         -3.98823261e-01,  9.31576908e-01,  1.81555465e-01,\n",
       "          4.54732418e-01, -1.09350540e-01],\n",
       "        [ 1.97043523e-01,  7.81294927e-02,  3.74027528e-02,\n",
       "         -1.21196173e-01,  4.07140642e-01,  2.48619393e-01,\n",
       "         -2.70958785e-02,  2.81977624e-01, -9.54256952e-02,\n",
       "          1.78100273e-01,  1.63982600e-01],\n",
       "        [-9.32482108e-02, -1.06543258e-01,  2.75424033e-01,\n",
       "         -2.04307511e-01,  5.98666668e-01, -4.14835304e-01,\n",
       "          2.57801026e-01, -2.96177417e-02, -7.41438866e-01,\n",
       "          2.38153204e-01, -5.97325921e-01],\n",
       "        [-3.55169028e-01, -5.30670822e-01,  6.23052567e-02,\n",
       "         -3.75471205e-01,  8.64265114e-02, -4.05680567e-01,\n",
       "          3.95586975e-02, -1.38060763e-01,  1.94075912e-01,\n",
       "         -8.00669491e-02, -2.03267917e-01],\n",
       "        [-7.50683025e-02,  1.77011658e-02, -6.36732876e-02,\n",
       "          3.44357431e-01, -1.75980315e-01,  1.72200188e-01,\n",
       "          3.80740017e-02,  3.93733531e-02,  1.99417979e-01,\n",
       "          1.46642938e-01, -6.50880039e-02]], dtype=float32),\n",
       " array([-0.29388896,  0.8343539 , -0.3941201 ,  0.0052339 , -0.25032857,\n",
       "         0.6036904 ,  0.06984158, -0.10307283,  0.55356044,  0.25771782,\n",
       "         0.3155598 ], dtype=float32)]"
      ]
     },
     "execution_count": 95,
     "metadata": {},
     "output_type": "execute_result"
    }
   ],
   "source": [
    "model.layers[0].get_weights()"
   ]
  },
  {
   "cell_type": "code",
   "execution_count": 96,
   "metadata": {
    "execution": {
     "iopub.execute_input": "2023-07-05T15:00:31.211087Z",
     "iopub.status.busy": "2023-07-05T15:00:31.210799Z",
     "iopub.status.idle": "2023-07-05T15:00:31.221796Z",
     "shell.execute_reply": "2023-07-05T15:00:31.220736Z",
     "shell.execute_reply.started": "2023-07-05T15:00:31.211063Z"
    }
   },
   "outputs": [
    {
     "data": {
      "text/plain": [
       "[array([[ 0.08400972,  0.37569746,  0.10710849,  0.2014053 , -0.31818357,\n",
       "         -0.7770405 ,  0.53559977,  0.66047955, -0.66665393,  0.4867293 ,\n",
       "         -0.77704436],\n",
       "        [-0.29491273, -0.4196163 ,  0.33103976,  0.23170206, -0.20783107,\n",
       "          0.01350529, -0.30279607, -0.7110944 ,  0.20343263, -0.19823326,\n",
       "         -0.5605556 ],\n",
       "        [ 0.37323686, -0.02377672,  0.22911683, -0.16872784,  0.7771989 ,\n",
       "          0.14330822,  0.4564109 ,  0.15317056, -0.43119407, -1.1353794 ,\n",
       "          0.3852463 ],\n",
       "        [ 0.46948063, -0.08850073, -0.05536437,  0.17003636,  0.12207168,\n",
       "         -0.42063132, -0.08727252,  0.11288941,  0.25168675,  0.01491925,\n",
       "          0.40324968],\n",
       "        [-0.07192119, -0.02099726,  0.48397812,  0.32165197, -0.5169319 ,\n",
       "          0.06470063, -0.04504888, -0.32314774, -0.07912027,  0.36063212,\n",
       "         -0.7770037 ],\n",
       "        [-0.20939395,  0.40917304,  0.18983462,  0.25023657,  0.0568147 ,\n",
       "          0.25639245, -0.18959631, -0.19137877, -0.34175238,  0.5834724 ,\n",
       "         -0.21279345],\n",
       "        [-0.00766776, -0.05941044, -0.37546396, -0.4091014 , -0.33016554,\n",
       "         -0.46738988,  0.3759349 ,  0.7058503 , -0.3461739 ,  0.00397425,\n",
       "          0.6184279 ],\n",
       "        [-0.6429879 , -1.3037735 , -0.04937872, -0.48293203,  0.6683458 ,\n",
       "          0.42424214, -0.21878456, -0.39677516,  0.80025613,  0.3893804 ,\n",
       "         -0.70545095],\n",
       "        [-0.10513539, -0.15468498,  0.05760046,  0.4039946 ,  0.43895847,\n",
       "         -1.1714257 , -0.43014857, -0.24256262, -0.25411925, -0.48658624,\n",
       "         -0.21386723],\n",
       "        [ 0.38216752,  0.43836042,  0.31125277,  0.12747504,  0.27066067,\n",
       "         -0.2456524 ,  0.29792637,  0.10843726,  0.49309605, -0.20885445,\n",
       "          0.57319593],\n",
       "        [-0.9323941 ,  0.1837821 , -0.11292544,  0.0456204 , -0.75671995,\n",
       "         -0.94038403,  0.61130655,  0.49655995,  0.34845138, -0.3407894 ,\n",
       "          0.91431475]], dtype=float32),\n",
       " array([ 0.3517954 ,  0.7655617 ,  0.3924404 ,  0.76051575,  0.05055154,\n",
       "         0.49739516, -0.35823187, -0.337507  ,  0.00163963,  0.32315695,\n",
       "        -0.22440389], dtype=float32)]"
      ]
     },
     "execution_count": 96,
     "metadata": {},
     "output_type": "execute_result"
    }
   ],
   "source": [
    "model.layers[1].get_weights()"
   ]
  },
  {
   "cell_type": "code",
   "execution_count": 97,
   "metadata": {
    "execution": {
     "iopub.execute_input": "2023-07-05T15:00:31.923484Z",
     "iopub.status.busy": "2023-07-05T15:00:31.923225Z",
     "iopub.status.idle": "2023-07-05T15:00:31.932452Z",
     "shell.execute_reply": "2023-07-05T15:00:31.931434Z",
     "shell.execute_reply.started": "2023-07-05T15:00:31.923461Z"
    }
   },
   "outputs": [
    {
     "data": {
      "text/plain": [
       "[array([[-0.97178805],\n",
       "        [-0.555914  ],\n",
       "        [-0.16263741],\n",
       "        [-0.95728695],\n",
       "        [-0.73028094],\n",
       "        [ 0.69723004],\n",
       "        [ 1.0865769 ],\n",
       "        [ 1.1952248 ],\n",
       "        [-0.8446002 ],\n",
       "        [ 0.93191963],\n",
       "        [ 0.7997805 ]], dtype=float32),\n",
       " array([-0.04813858], dtype=float32)]"
      ]
     },
     "execution_count": 97,
     "metadata": {},
     "output_type": "execute_result"
    }
   ],
   "source": [
    "model.layers[2].get_weights()"
   ]
  },
  {
   "cell_type": "code",
   "execution_count": 98,
   "metadata": {
    "execution": {
     "iopub.execute_input": "2023-07-05T15:00:32.783535Z",
     "iopub.status.busy": "2023-07-05T15:00:32.783261Z",
     "iopub.status.idle": "2023-07-05T15:00:33.017537Z",
     "shell.execute_reply": "2023-07-05T15:00:33.016684Z",
     "shell.execute_reply.started": "2023-07-05T15:00:32.783511Z"
    }
   },
   "outputs": [
    {
     "name": "stdout",
     "output_type": "stream",
     "text": [
      "63/63 [==============================] - 0s 2ms/step\n"
     ]
    },
    {
     "data": {
      "text/plain": [
       "array([[0],\n",
       "       [0],\n",
       "       [0],\n",
       "       ...,\n",
       "       [0],\n",
       "       [0],\n",
       "       [0]])"
      ]
     },
     "execution_count": 98,
     "metadata": {},
     "output_type": "execute_result"
    }
   ],
   "source": [
    "y_pred = model.predict(X_test_scaled)\n",
    "y_pred = np.where(y_pred>0.5,1,0)\n",
    "y_pred"
   ]
  },
  {
   "cell_type": "code",
   "execution_count": 99,
   "metadata": {
    "execution": {
     "iopub.execute_input": "2023-07-05T15:00:34.334799Z",
     "iopub.status.busy": "2023-07-05T15:00:34.334460Z",
     "iopub.status.idle": "2023-07-05T15:00:34.342735Z",
     "shell.execute_reply": "2023-07-05T15:00:34.341716Z",
     "shell.execute_reply.started": "2023-07-05T15:00:34.334755Z"
    }
   },
   "outputs": [
    {
     "data": {
      "text/plain": [
       "0.86"
      ]
     },
     "execution_count": 99,
     "metadata": {},
     "output_type": "execute_result"
    }
   ],
   "source": [
    "accuracy_score(y_test,y_pred)"
   ]
  }
 ],
 "metadata": {
  "kernelspec": {
   "display_name": "Python 3",
   "language": "python",
   "name": "python3"
  },
  "language_info": {
   "codemirror_mode": {
    "name": "ipython",
    "version": 3
   },
   "file_extension": ".py",
   "mimetype": "text/x-python",
   "name": "python",
   "nbconvert_exporter": "python",
   "pygments_lexer": "ipython3",
   "version": "3.8.5"
  }
 },
 "nbformat": 4,
 "nbformat_minor": 4
}
